{
 "cells": [
  {
   "cell_type": "markdown",
   "id": "2700ec48",
   "metadata": {},
   "source": [
    "# Devoir 2 - IFT6512\n",
    "\n",
    "### Mathieu Beaudoin"
   ]
  },
  {
   "cell_type": "code",
   "execution_count": 1,
   "id": "2ce6e191",
   "metadata": {},
   "outputs": [],
   "source": [
    "using JuMP\n",
    "using LinearAlgebra\n",
    "using GLPK\n",
    "using DataFrames"
   ]
  },
  {
   "cell_type": "markdown",
   "id": "70a9d845",
   "metadata": {},
   "source": [
    "## Problem statement and data\n",
    "\n",
    "We have 3 production facilities, indexed by $i=\\{1,2,3\\}$ and 5 demand locations, indexed by $j=\\{1,...,5\\}$. Unit production costs are 14, and the unit sale price is 24. Demand is not known in advance, and any surplus at a given location has to be disposed at a cost of 4 per unit. Production facilities have respective capacities of (500, 450, 650).  \n",
    "\n",
    "Unit transport costs from facility $i$ ($f_i$) to demand point $j$ ($d_j$) are the following:  \n",
    "\n",
    "|   | $d_1$| $d_2$| $d_3$| $d_4$| $d_5$|\n",
    "|---|---|---|---|---|---|\n",
    "|$f_1$| 2.49|5.21|3.76|4.85|2.07|\n",
    "|$f_2$| 1.46|2.54|1.83|1.86|4.76|\n",
    "|$f_3$| 3.26|3.08|2.60|3.76|4.45|  \n",
    "\n",
    "Demand can take the following values:  \n",
    "\n",
    "|j|Low|Medium|High|\n",
    "|---|---|---|---|\n",
    "|1|150|160|170|\n",
    "|2|100|120|135|\n",
    "|3|250|270|300|\n",
    "|4|300|325|350|\n",
    "|5|600|700|800|\n",
    "\n",
    "with the following probabilities (we assume that demand levels at each location are independent of one another):  \n",
    "\n",
    "|j|Low|Medium|High|\n",
    "|---|---|---|---|\n",
    "|1,2,3|0.25|0.50|0.25|\n",
    "|4,5  |0.30|0.40|0.30|  \n",
    "\n",
    "We have 15 decisions to make (how much to ship to each demand point from each production facility); our goal is to maximize expected profit"
   ]
  },
  {
   "cell_type": "code",
   "execution_count": 2,
   "id": "b90b46c3",
   "metadata": {},
   "outputs": [
    {
     "data": {
      "text/plain": [
       "5×3 Matrix{Float64}:\n",
       " 0.25  0.5  0.25\n",
       " 0.25  0.5  0.25\n",
       " 0.25  0.5  0.25\n",
       " 0.3   0.4  0.3\n",
       " 0.3   0.4  0.3"
      ]
     },
     "execution_count": 2,
     "metadata": {},
     "output_type": "execute_result"
    }
   ],
   "source": [
    "prod_cost = 14.\n",
    "prod_capacity = [500; 450; 650]\n",
    "sell_price = 24.\n",
    "waste_cost = 4.\n",
    "\n",
    "t_cost = [\n",
    "    2.49 5.21 3.76 4.85 2.07;\n",
    "    1.46 2.54 1.83 1.86 4.76;\n",
    "    3.26 3.08 2.60 3.76 4.45\n",
    "]\n",
    "demand_level = [\n",
    "    150 160 170;\n",
    "    100 120 135;\n",
    "    250 270 300;\n",
    "    300 325 350;\n",
    "    600 700 800\n",
    "]\n",
    "demand_pr = [\n",
    "    .25 .5 .25;\n",
    "    .25 .5 .25;\n",
    "    .25 .5 .25;\n",
    "    .3 .4 .3;\n",
    "    .3 .4 .3;\n",
    "]"
   ]
  },
  {
   "cell_type": "markdown",
   "id": "976ae08f",
   "metadata": {},
   "source": [
    "## Scenario ventilation\n",
    "\n",
    "Let us start by ventilating the possible states of nature, along with the probabilities. We first generate a matrix of indices, which we will use to build matrices of realizations and joint probabilities. We will refer to the random vector of demands as $\\xi_k\\in\\mathbb{R}^5$, for $k=1,...,K$ (in the current context, $K=3^5=243$)."
   ]
  },
  {
   "cell_type": "code",
   "execution_count": 3,
   "id": "8e1ef6e3",
   "metadata": {},
   "outputs": [
    {
     "data": {
      "text/plain": [
       "1.0000000000000002"
      ]
     },
     "execution_count": 3,
     "metadata": {},
     "output_type": "execute_result"
    }
   ],
   "source": [
    "n, d = size(t_cost)\n",
    "\n",
    "# Generate matrix of in\n",
    "idx = zeros(n^d, d)\n",
    "P = ones(n^d)\n",
    "for j in 1:d\n",
    "    for i in 1:n^d\n",
    "        idx[i, j] = ceil(i / 3^(j-1)) % 3\n",
    "        if idx[i, j] == 0\n",
    "            idx[i, j] = 3\n",
    "        end\n",
    "    end\n",
    "end\n",
    "idx = convert(Matrix{Int64}, idx)\n",
    "\n",
    "# Use the indices matrix to assemble disjointed scenarios and compute their probabilities\n",
    "ξ = zeros(n^d, d)\n",
    "marginal_P = ones(n^d, d)\n",
    "for i = 1:n^d\n",
    "    for j = 1:d\n",
    "        ξ[i, j] = demand_level[j, idx[i, j]]\n",
    "        marginal_P[i, j] = demand_pr[j, idx[i, j]]\n",
    "    end\n",
    "end\n",
    "P = [prod(marginal_P[i, :]) for i=1:n^d]\n",
    "\n",
    "# Stupid-check\n",
    "sum(P)"
   ]
  },
  {
   "cell_type": "markdown",
   "id": "9059aa01",
   "metadata": {},
   "source": [
    "We probably don't need to worry that the probabilities vector doesn't sum exactly to one, since the result seems to be within a rounding error of it."
   ]
  },
  {
   "cell_type": "markdown",
   "id": "84e35844",
   "metadata": {},
   "source": [
    "## First-stage program\n",
    "\n",
    "The first-stage problem is the following: $\\min\\{c^\\top x | Ax \\le b, \\ x\\ge 0\\}$. We represent $c$ and $x$ as 15-vectors; $b$ is the production capacity constraint. The $A$ matrix is the following:  \n",
    "$$A = \\begin{pmatrix}\n",
    "    1 & 1 & 1 & 1 & 1 & 0 & 0 & 0 & 0 & 0 & 0 & 0 & 0 & 0 & 0 & \\\\\n",
    "    0 & 0 & 0 & 0 & 0 & 1 & 1 & 1 & 1 & 1 & 0 & 0 & 0 & 0 & 0 & \\\\\n",
    "    0 & 0 & 0 & 0 & 0 & 0 & 0 & 0 & 0 & 0 & 1 & 1 & 1 & 1 & 1\n",
    "  \\end{pmatrix}$$\n",
    "\n",
    "The $c$ vector is the sum of production and transport costs for each production facility/demand point combination, minus the selling price (we will assume, for now, that everything that can be produced can also be sold, and account for waste by adding optimality cuts later on)."
   ]
  },
  {
   "cell_type": "code",
   "execution_count": 4,
   "id": "30b8a4d6",
   "metadata": {},
   "outputs": [
    {
     "data": {
      "text/plain": [
       "-577.08"
      ]
     },
     "execution_count": 4,
     "metadata": {},
     "output_type": "execute_result"
    }
   ],
   "source": [
    "# First-stage constraints\n",
    "A = zeros(3, 15)\n",
    "for i = 1:3\n",
    "    j0 = (i-1) * 5 + 1\n",
    "    A[i, j0:(j0+4)] = ones(5)\n",
    "end\n",
    "b = prod_capacity\n",
    "\n",
    "# Cost vector\n",
    "n = n * d\n",
    "c = ones(n) * (prod_cost - sell_price) + reshape(transpose(t_cost), n, 1)\n",
    "\n",
    "function first_stage(x)\n",
    "    return dot(c, x)\n",
    "end\n",
    "\n",
    "# Test with completely random numbers\n",
    "first_stage(rand(1:10, n, 1))"
   ]
  },
  {
   "cell_type": "markdown",
   "id": "0ce01cd9",
   "metadata": {},
   "source": [
    "## Master program\n",
    "\n",
    "Using the multicut L-shaped algorithm, the master program has the following form:  \n",
    "$$\\min z = c^\\top x + \\sum_{k=1}^K \\theta_k \\\\\n",
    "\\text{s.t.}\n",
    "\\quad Ax\\le b\n",
    "\\\\\n",
    "D_{\\ell}x \\ge d_\\ell, \\quad \\ell=1,...,r,\n",
    "\\\\\n",
    "E_{\\ell(k)}x + \\theta_k \\ge e_{\\ell(k)}, \\quad \\ell (k)=1,...,s_k,\n",
    "\\\\\n",
    "x\\ge 0\n",
    "$$  \n",
    "\n",
    "For the current problem, there is no need to add any feasibility cuts ($D$, $d$), as the structure of the problem guarantees that $K_1\\subseteq K_2$, i.e. any first-stage feasible solution is guaranteed to be second-stage feasible, as any shortage or surplus of shipped product relative to demand can be absorbed through foregone sales or paid disposal, respectively.  \n",
    "\n",
    "Therefore, the only constraints we need to bake into the master program are the first-stage constraints; the rest will be added as we iterate through the L-shaped method."
   ]
  },
  {
   "cell_type": "code",
   "execution_count": 5,
   "id": "673ed74d",
   "metadata": {},
   "outputs": [
    {
     "data": {
      "text/plain": [
       "master (generic function with 1 method)"
      ]
     },
     "execution_count": 5,
     "metadata": {},
     "output_type": "execute_result"
    }
   ],
   "source": [
    "function master(A, b, c, Ξ)\n",
    "    \n",
    "    m, n = size(A)\n",
    "    K = size(Ξ)[1]\n",
    "    \n",
    "    model = Model(with_optimizer(GLPK.Optimizer))        \n",
    "    @variable(model, x[1:n] >= 0)\n",
    "    @variable(model, θ[1:K] >= -1e9)    \n",
    "    for i = 1:m\n",
    "        @constraint(model, (transpose(A)'x)[i] <= b[i])\n",
    "    end    \n",
    "    @objective(model, Min, first_stage(x) + sum(θ))    \n",
    "    return model, x, θ\n",
    "    \n",
    "end"
   ]
  },
  {
   "cell_type": "markdown",
   "id": "449fd814",
   "metadata": {},
   "source": [
    "## Second-stage program\n",
    "\n",
    "### Primal\n",
    "\n",
    "In the first stage, we start off by assuming that everything we produce and ship will be sold. This simplifies the second-stage program, as we can focus this stage on minimizing waste, given a realization of $\\xi$:  \n",
    "$$\\min\\big\\{q^\\top y|Wy=h-Tx, y\\ge 0 \\big\\}$$\n",
    "where:\n",
    "- $q$ and $y$ are 10-vectors, the first 5 positions of each representing the cost of sales lost due to insufficient delivery, and the rest representing the cost of wasted inventory ($q$ gives the coefficients, $y$ is the optimand)\n",
    "    - since the negative cost of a successful sale is front-loaded in the first stage, we assign a null cost to sales lost due to insufficient inventory, but penalize excess inventory by retracting the sale price on the excess units, on top of the disposal cost;\n",
    "- $W$ is the 5x10 recourse matrix:  \n",
    "$$W = \\begin{pmatrix}\n",
    "    1 & 0 & 0 & 0 & 0 & -1 & 0 & 0 & 0 & 0\\\\\n",
    "    0 & 1 & 0 & 0 & 0 & 0 & -1 & 0 & 0 & 0\\\\\n",
    "    0 & 0 & 1 & 0 & 0 & 0 & 0 & -1 & 0 & 0\\\\\n",
    "    0 & 0 & 0 & 1 & 0 & 0 & 0 & 0 & -1 & 0\\\\\n",
    "    0 & 0 & 0 & 0 & 1 & 0 & 0 & 0 & 0 & -1\n",
    "  \\end{pmatrix}$$  \n",
    "  \n",
    "  \n",
    "- $h$ is the 5-vector of demand associated with a given realization of $\\xi$;\n",
    "- $T$ is the indicator matrix summing the quantities shipped to each demand location:  \n",
    "\n",
    "$$T = \\begin{pmatrix}\n",
    "    1 & 0 & 0 & 0 & 0 & 1 & 0 & 0 & 0 & 0 & 1 & 0 & 0 & 0 & 0 & \\\\\n",
    "    0 & 1 & 0 & 0 & 0 & 0 & 1 & 0 & 0 & 0 & 0 & 1 & 0 & 0 & 0 & \\\\\n",
    "    0 & 0 & 1 & 0 & 0 & 0 & 0 & 1 & 0 & 0 & 0 & 0 & 1 & 0 & 0 & \\\\\n",
    "    0 & 0 & 0 & 1 & 0 & 0 & 0 & 0 & 1 & 0 & 0 & 0 & 0 & 1 & 0 & \\\\\n",
    "    0 & 0 & 0 & 0 & 1 & 0 & 0 & 0 & 0 & 1 & 0 & 0 & 0 & 0 & 1\n",
    "  \\end{pmatrix}$$"
   ]
  },
  {
   "cell_type": "code",
   "execution_count": 6,
   "id": "f0f1a30d",
   "metadata": {},
   "outputs": [
    {
     "data": {
      "text/plain": [
       "5×15 Matrix{Float64}:\n",
       " 1.0  0.0  0.0  0.0  0.0  1.0  0.0  0.0  0.0  0.0  1.0  0.0  0.0  0.0  0.0\n",
       " 0.0  1.0  0.0  0.0  0.0  0.0  1.0  0.0  0.0  0.0  0.0  1.0  0.0  0.0  0.0\n",
       " 0.0  0.0  1.0  0.0  0.0  0.0  0.0  1.0  0.0  0.0  0.0  0.0  1.0  0.0  0.0\n",
       " 0.0  0.0  0.0  1.0  0.0  0.0  0.0  0.0  1.0  0.0  0.0  0.0  0.0  1.0  0.0\n",
       " 0.0  0.0  0.0  0.0  1.0  0.0  0.0  0.0  0.0  1.0  0.0  0.0  0.0  0.0  1.0"
      ]
     },
     "execution_count": 6,
     "metadata": {},
     "output_type": "execute_result"
    }
   ],
   "source": [
    "q = [zeros(5); ones(5) * (sell_price + waste_cost)]\n",
    "I = diagm(ones(5))\n",
    "W = [I -I]\n",
    "T = [I I I]"
   ]
  },
  {
   "cell_type": "markdown",
   "id": "e3a90e8e",
   "metadata": {},
   "source": [
    "### Dual\n",
    "\n",
    "To implement the L-shaped algorithm, we need to define the dual second-stage problem - defining the primal problem is mainly a stepping-stone to the dual. We introduce $\\lambda$ as the dual variable vector. Considering the primal had the form $\\min\\{q^\\top y|Wy=z, y\\ge 0\\}$, the dual becomes $\\max\\{\\lambda^\\top z|W^\\top\\lambda\\le q\\}$, with $\\lambda$ unconstrained."
   ]
  },
  {
   "cell_type": "code",
   "execution_count": 7,
   "id": "e7743a6d",
   "metadata": {},
   "outputs": [
    {
     "data": {
      "text/plain": [
       "second_stage_dual (generic function with 1 method)"
      ]
     },
     "execution_count": 7,
     "metadata": {},
     "output_type": "execute_result"
    }
   ],
   "source": [
    "function second_stage_dual(x, q, W, T, ξ_k)\n",
    "    \n",
    "    m, n = size(W)\n",
    "    \n",
    "    model_dual = Model(with_optimizer(GLPK.Optimizer))\n",
    "    @variable(model_dual, λ[1:m])\n",
    "    for i = 1:n\n",
    "        @constraint(model_dual, (W'λ)[i] <= q[i])\n",
    "    end\n",
    "    \n",
    "    z = ξ_k - T * x\n",
    "    @objective(model_dual, Max, λ'z)\n",
    "    \n",
    "    optimize!(model_dual)\n",
    "    \n",
    "    return value.(λ), objective_value(model_dual)\n",
    "    \n",
    "end"
   ]
  },
  {
   "cell_type": "markdown",
   "id": "a5aa5faa",
   "metadata": {},
   "source": [
    "## L-Shaped method (multicut)\n",
    "\n",
    "We now implement the overall algorithm."
   ]
  },
  {
   "cell_type": "code",
   "execution_count": 8,
   "id": "75cc789f",
   "metadata": {
    "scrolled": false
   },
   "outputs": [
    {
     "name": "stdout",
     "output_type": "stream",
     "text": [
      "\n",
      "Iteration #1\n",
      "\toptimal value: -2.43000012618e11\n",
      "\tx vector: [0.0, 0.0, 0.0, 0.0, 500.0, 450.0, 0.0, 0.0, 0.0, 0.0, 0.0, 0.0, 650.0, 0.0, 0.0]\n",
      "\n",
      "Iteration #2\n",
      "\toptimal value: -24236.000000596046\n",
      "\tx vector: [0.0, 0.0, 0.0, 0.0, 500.0, 0.0, 0.0, 0.0, 450.0, 0.0, 0.0, 650.0, 0.0, 0.0, 0.0]\n",
      "\n",
      "Iteration #3\n",
      "\toptimal value: -21833.562500596046\n",
      "\tx vector: [0.0, 0.0, 0.0, 0.0, 500.0, 0.0, 0.0, 0.0, 0.0, 450.0, 0.0, 0.0, 0.0, 0.0, 650.0]\n",
      "\n",
      "Iteration #4\n",
      "\toptimal value: -13278.82500163572\n",
      "\tx vector: [0.0, 0.0, 0.0, 0.0, 205.0, 0.0, 0.0, 0.0, 5.0, 0.0, 0.0, 0.0, 0.0, 0.0, 0.0]\n",
      "\n",
      "Iteration #5\n",
      "\toptimal value: -10985.178124248036\n",
      "\tx vector: [0.0, 0.0, 0.0, 0.0, 500.0, 15.0, 0.0, 0.0, 435.0, 0.0, 0.0, 0.0, 415.0, 0.0, 115.0]\n",
      "\n",
      "Iteration #6\n",
      "\toptimal value: -10973.178124060707\n",
      "\tx vector: [0.0, 0.0, 0.0, 0.0, 500.0, 165.0, 0.0, 0.0, 285.0, 0.0, 0.0, 150.0, 265.0, 0.0, 115.0]\n",
      "\n",
      "Iteration #7\n",
      "Warning: numerical instability (primal simplex, phase I)\n",
      "Warning: numerical instability (primal simplex, phase II)\n",
      "\toptimal value: -10887.349999967077\n",
      "\tx vector: [0.0, 0.0, 0.0, 0.0, 500.0, 130.0, 0.0, 0.0, 320.0, 0.0, 40.0, 100.0, 250.0, 0.0, 100.0]\n"
     ]
    },
    {
     "data": {
      "text/plain": [
       "(A JuMP Model\n",
       "Minimization problem with:\n",
       "Variables: 258\n",
       "Objective function type: AffExpr\n",
       "`AffExpr`-in-`MathOptInterface.GreaterThan{Float64}`: 1460 constraints\n",
       "`AffExpr`-in-`MathOptInterface.LessThan{Float64}`: 3 constraints\n",
       "`VariableRef`-in-`MathOptInterface.GreaterThan{Float64}`: 258 constraints\n",
       "Model mode: AUTOMATIC\n",
       "CachingOptimizer state: ATTACHED_OPTIMIZER\n",
       "Solver name: GLPK\n",
       "Names registered in the model: x, θ, [0.0, 0.0, 0.0, 0.0, 500.0, 129.99999977293476, 0.0, 0.0, 320.00000022706524, 0.0, 39.999999318803994, 100.00000000000009, 249.9999999999999, 0.0, 100.0], -10887.349999967077)"
      ]
     },
     "execution_count": 8,
     "metadata": {},
     "output_type": "execute_result"
    }
   ],
   "source": [
    "function lshaped(A, b, c, Ξ, q, W, T, P, max_iter=10)\n",
    "    \n",
    "    K = size(Ξ)[1]\n",
    "    base_θ = ones(K) * -Inf\n",
    "    stop = false\n",
    "    \n",
    "    model, x, θ = master(A, b, c, Ξ)\n",
    "    \n",
    "    for iter = 1:max_iter\n",
    "        \n",
    "        println(\"\\nIteration #\", iter)\n",
    "        \n",
    "        optimize!(model)\n",
    "        status = termination_status(model)\n",
    "        if status != MOI.OPTIMAL\n",
    "            println(\"\\nERROR - status: \", status)\n",
    "            return model, status\n",
    "        end\n",
    "        \n",
    "        x_star = value.(x)\n",
    "        base_θ = value.(θ)\n",
    "        E = zeros(K, size(T)[2])\n",
    "        e = zeros(K)\n",
    "        \n",
    "        println(\"\\toptimal value: \", objective_value(model),\n",
    "                \"\\n\\tx vector: \", [round(_x * 10) / 10 for _x in x_star])\n",
    "        \n",
    "        for k = 1:K\n",
    "            \n",
    "            ξk = Ξ[k, :]\n",
    "            \n",
    "            # Get the simplex multipliers and dual program objective value\n",
    "            λ, θ_v = second_stage_dual(x_star, q, W, T, ξk)\n",
    "            \n",
    "            # Check for optimality before going any further\n",
    "            p = P[k]\n",
    "            if base_θ[k] >= p * θ_v\n",
    "                stop = true\n",
    "                break\n",
    "            end\n",
    "            \n",
    "            # Build optimality cuts\n",
    "            E[k, :] = p * λ'T\n",
    "            e[k] = p * λ'ξk            \n",
    "            @constraint(model, dot(E[k, :], x) + θ[k] >= e[k])\n",
    "            \n",
    "        end\n",
    "        \n",
    "        if stop\n",
    "            break\n",
    "        end\n",
    "        \n",
    "    end\n",
    "    \n",
    "    return model, value.(x), objective_value(model)\n",
    "        \n",
    "end\n",
    "\n",
    "m, x, optimum = lshaped(A, b, c, ξ, q, W, T, P)"
   ]
  },
  {
   "cell_type": "code",
   "execution_count": 9,
   "id": "1884352c",
   "metadata": {},
   "outputs": [
    {
     "data": {
      "text/html": [
       "<div class=\"data-frame\"><p>3 rows × 5 columns</p><table class=\"data-frame\"><thead><tr><th></th><th>d1</th><th>d2</th><th>d3</th><th>d4</th><th>d5</th></tr><tr><th></th><th title=\"Float64\">Float64</th><th title=\"Float64\">Float64</th><th title=\"Float64\">Float64</th><th title=\"Float64\">Float64</th><th title=\"Float64\">Float64</th></tr></thead><tbody><tr><th>1</th><td>0.0</td><td>0.0</td><td>0.0</td><td>0.0</td><td>500.0</td></tr><tr><th>2</th><td>130.0</td><td>0.0</td><td>0.0</td><td>320.0</td><td>0.0</td></tr><tr><th>3</th><td>40.0</td><td>100.0</td><td>250.0</td><td>0.0</td><td>100.0</td></tr></tbody></table></div>"
      ],
      "text/latex": [
       "\\begin{tabular}{r|ccccc}\n",
       "\t& d1 & d2 & d3 & d4 & d5\\\\\n",
       "\t\\hline\n",
       "\t& Float64 & Float64 & Float64 & Float64 & Float64\\\\\n",
       "\t\\hline\n",
       "\t1 & 0.0 & 0.0 & 0.0 & 0.0 & 500.0 \\\\\n",
       "\t2 & 130.0 & 0.0 & 0.0 & 320.0 & 0.0 \\\\\n",
       "\t3 & 40.0 & 100.0 & 250.0 & 0.0 & 100.0 \\\\\n",
       "\\end{tabular}\n"
      ],
      "text/plain": [
       "\u001b[1m3×5 DataFrame\u001b[0m\n",
       "\u001b[1m Row \u001b[0m│\u001b[1m d1      \u001b[0m\u001b[1m d2      \u001b[0m\u001b[1m d3      \u001b[0m\u001b[1m d4      \u001b[0m\u001b[1m d5      \u001b[0m\n",
       "\u001b[1m     \u001b[0m│\u001b[90m Float64 \u001b[0m\u001b[90m Float64 \u001b[0m\u001b[90m Float64 \u001b[0m\u001b[90m Float64 \u001b[0m\u001b[90m Float64 \u001b[0m\n",
       "─────┼─────────────────────────────────────────────\n",
       "   1 │     0.0      0.0      0.0      0.0    500.0\n",
       "   2 │   130.0      0.0      0.0    320.0      0.0\n",
       "   3 │    40.0    100.0    250.0      0.0    100.0"
      ]
     },
     "execution_count": 9,
     "metadata": {},
     "output_type": "execute_result"
    }
   ],
   "source": [
    "function result_as_df(result, orig_shape)\n",
    "    if length(size(result)) == 1 || size(result)[2] == 1\n",
    "        result = transpose(reshape(result, orig_shape[2], orig_shape[1]))\n",
    "    end\n",
    "    return DataFrame(Dict(string(\"d\", j) => result[:, j] for j=1:5))\n",
    "end\n",
    "\n",
    "result_as_df(x, size(t_cost))"
   ]
  },
  {
   "cell_type": "code",
   "execution_count": 10,
   "id": "9142f356",
   "metadata": {},
   "outputs": [
    {
     "data": {
      "text/html": [
       "<div class=\"data-frame\"><p>3 rows × 5 columns</p><table class=\"data-frame\"><thead><tr><th></th><th>d1</th><th>d2</th><th>d3</th><th>d4</th><th>d5</th></tr><tr><th></th><th title=\"Float64\">Float64</th><th title=\"Float64\">Float64</th><th title=\"Float64\">Float64</th><th title=\"Float64\">Float64</th><th title=\"Float64\">Float64</th></tr></thead><tbody><tr><th>1</th><td>2.49</td><td>5.21</td><td>3.76</td><td>4.85</td><td>2.07</td></tr><tr><th>2</th><td>1.46</td><td>2.54</td><td>1.83</td><td>1.86</td><td>4.76</td></tr><tr><th>3</th><td>3.26</td><td>3.08</td><td>2.6</td><td>3.76</td><td>4.45</td></tr></tbody></table></div>"
      ],
      "text/latex": [
       "\\begin{tabular}{r|ccccc}\n",
       "\t& d1 & d2 & d3 & d4 & d5\\\\\n",
       "\t\\hline\n",
       "\t& Float64 & Float64 & Float64 & Float64 & Float64\\\\\n",
       "\t\\hline\n",
       "\t1 & 2.49 & 5.21 & 3.76 & 4.85 & 2.07 \\\\\n",
       "\t2 & 1.46 & 2.54 & 1.83 & 1.86 & 4.76 \\\\\n",
       "\t3 & 3.26 & 3.08 & 2.6 & 3.76 & 4.45 \\\\\n",
       "\\end{tabular}\n"
      ],
      "text/plain": [
       "\u001b[1m3×5 DataFrame\u001b[0m\n",
       "\u001b[1m Row \u001b[0m│\u001b[1m d1      \u001b[0m\u001b[1m d2      \u001b[0m\u001b[1m d3      \u001b[0m\u001b[1m d4      \u001b[0m\u001b[1m d5      \u001b[0m\n",
       "\u001b[1m     \u001b[0m│\u001b[90m Float64 \u001b[0m\u001b[90m Float64 \u001b[0m\u001b[90m Float64 \u001b[0m\u001b[90m Float64 \u001b[0m\u001b[90m Float64 \u001b[0m\n",
       "─────┼─────────────────────────────────────────────\n",
       "   1 │    2.49     5.21     3.76     4.85     2.07\n",
       "   2 │    1.46     2.54     1.83     1.86     4.76\n",
       "   3 │    3.26     3.08     2.6      3.76     4.45"
      ]
     },
     "execution_count": 10,
     "metadata": {},
     "output_type": "execute_result"
    }
   ],
   "source": [
    "result_as_df(t_cost, size(t_cost))"
   ]
  },
  {
   "cell_type": "code",
   "execution_count": 11,
   "id": "8abecbbd",
   "metadata": {},
   "outputs": [
    {
     "data": {
      "text/html": [
       "<div class=\"data-frame\"><p>5 rows × 2 columns</p><table class=\"data-frame\"><thead><tr><th></th><th>Mean Demand</th><th>Optimal Shipment</th></tr><tr><th></th><th title=\"Float64\">Float64</th><th title=\"Float64\">Float64</th></tr></thead><tbody><tr><th>1</th><td>160.0</td><td>170.0</td></tr><tr><th>2</th><td>118.75</td><td>100.0</td></tr><tr><th>3</th><td>272.5</td><td>250.0</td></tr><tr><th>4</th><td>325.0</td><td>320.0</td></tr><tr><th>5</th><td>700.0</td><td>600.0</td></tr></tbody></table></div>"
      ],
      "text/latex": [
       "\\begin{tabular}{r|cc}\n",
       "\t& Mean Demand & Optimal Shipment\\\\\n",
       "\t\\hline\n",
       "\t& Float64 & Float64\\\\\n",
       "\t\\hline\n",
       "\t1 & 160.0 & 170.0 \\\\\n",
       "\t2 & 118.75 & 100.0 \\\\\n",
       "\t3 & 272.5 & 250.0 \\\\\n",
       "\t4 & 325.0 & 320.0 \\\\\n",
       "\t5 & 700.0 & 600.0 \\\\\n",
       "\\end{tabular}\n"
      ],
      "text/plain": [
       "\u001b[1m5×2 DataFrame\u001b[0m\n",
       "\u001b[1m Row \u001b[0m│\u001b[1m Mean Demand \u001b[0m\u001b[1m Optimal Shipment \u001b[0m\n",
       "\u001b[1m     \u001b[0m│\u001b[90m Float64     \u001b[0m\u001b[90m Float64          \u001b[0m\n",
       "─────┼───────────────────────────────\n",
       "   1 │      160.0              170.0\n",
       "   2 │      118.75             100.0\n",
       "   3 │      272.5              250.0\n",
       "   4 │      325.0              320.0\n",
       "   5 │      700.0              600.0"
      ]
     },
     "execution_count": 11,
     "metadata": {},
     "output_type": "execute_result"
    }
   ],
   "source": [
    "DataFrame(Dict(\n",
    "        \"Mean Demand\" => [sum(P .* ξ[:, j]) for j=1:5],\n",
    "        \"Optimal Shipment\" => T * x\n",
    "))"
   ]
  },
  {
   "cell_type": "markdown",
   "id": "acee832a",
   "metadata": {},
   "source": [
    "By comparing the optimal shipments to the table of shipping costs, we can see the results make a lot of sense: each facility heavily favors destinations that have a relatively low shipping costs, while considering that for some locations, it can be more profitable to serve the limited demand from a higher-cost facility to avoid the latter having to use its capacity on even higher-cost locations.\n",
    "\n",
    "## L-Shaped method with regularization\n",
    "\n",
    "We will use a slightly modified version of the regularization term, using the L1 distance (rather than L2) between $x^\\nu$ and $a^\\nu$. The reason we are forced to do this is because our current solver will not let us work with quadratic problems."
   ]
  },
  {
   "cell_type": "code",
   "execution_count": 12,
   "id": "0748cfc3",
   "metadata": {
    "scrolled": false
   },
   "outputs": [
    {
     "name": "stdout",
     "output_type": "stream",
     "text": [
      "\n",
      "Iteration #1\n",
      "\toptimal value: -2.43000012458e11\n",
      "\tx vector: [0.0, 0.0, 0.0, 0.0, 500.0, 450.0, 0.0, 0.0, 0.0, 0.0, 0.0, 0.0, 650.0, 0.0, 0.0]\n",
      "\tQ: 0.0\tQx: 18690.0\n",
      "\tright_hand: 6072.0\n",
      "\tleft_hand: 0.0\n",
      "\n",
      "Iteration #2\n",
      "\toptimal value: -24076.000000596046\n",
      "\tx vector: [0.0, 0.0, 0.0, 0.0, 500.0, 0.0, 0.0, 0.0, 450.0, 0.0, 0.0, 650.0, 0.0, 0.0, 0.0]\n",
      "\tQ: 0.0\tQx: 18375.0\n",
      "\tright_hand: 6249.0\n",
      "\tleft_hand: 0.0\n",
      "\n",
      "Iteration #3\n",
      "\toptimal value: -21673.562501192093\n",
      "\tx vector: [0.0, 0.0, 0.0, 0.0, 500.0, 0.0, 0.0, 0.0, 0.0, 450.0, 0.0, 0.0, 0.0, 0.0, 650.0]\n",
      "\tQ: 0.0\tQx: 25200.0\n",
      "\tright_hand: 15269.5\n",
      "\tleft_hand: 0.0\n",
      "\n",
      "Iteration #4\n",
      "\toptimal value: -13258.143750724339\n",
      "\tx vector: [0.0, 0.0, 0.0, 0.0, 200.0, 0.0, 0.0, 0.0, 0.0, 0.0, 0.0, 0.0, 0.0, 0.0, 0.0]\n",
      "\tQ: 0.0\tQx: 0.0\n",
      "\tright_hand: -1586.000018165225\n",
      "\tleft_hand: 0.0\n",
      "\n",
      "Iteration #5\n",
      "\toptimal value: -10857.990624354943\n",
      "\tx vector: [0.0, 0.0, 0.0, 0.0, 500.0, 25.0, 0.0, 0.0, 425.0, 0.0, 0.0, 0.0, 395.0, 0.0, 105.0]\n",
      "\tQ: 0.0\tQx: 6272.0000094837615\n",
      "\tright_hand: -4871.749988485895\n",
      "\tleft_hand: -1586.000018165225\n",
      "\n",
      "Iteration #6\n",
      "\toptimal value: -10918.34062265891\n",
      "\tx vector: [0.0, 0.0, 0.0, 0.0, 500.0, 157.5, 0.0, 0.0, 292.5, 0.0, 0.0, 132.5, 262.5, 0.0, 105.0]\n",
      "\tQ: 6272.0000094837615\tQx: 5845.175014130316\n",
      "\tright_hand: -5287.974999337541\n",
      "\tleft_hand: -4861.150003984096\n"
     ]
    },
    {
     "data": {
      "text/plain": [
       "(A JuMP Model\n",
       "Minimization problem with:\n",
       "Variables: 303\n",
       "Objective function type: AffExpr\n",
       "`AffExpr`-in-`MathOptInterface.EqualTo{Float64}`: 15 constraints\n",
       "`AffExpr`-in-`MathOptInterface.GreaterThan{Float64}`: 1231 constraints\n",
       "`AffExpr`-in-`MathOptInterface.LessThan{Float64}`: 3 constraints\n",
       "`VariableRef`-in-`MathOptInterface.EqualTo{Float64}`: 15 constraints\n",
       "`VariableRef`-in-`MathOptInterface.GreaterThan{Float64}`: 288 constraints\n",
       "Model mode: AUTOMATIC\n",
       "CachingOptimizer state: ATTACHED_OPTIMIZER\n",
       "Solver name: GLPK\n",
       "Names registered in the model: a, x, Δ_neg, Δ_pos, θ, [0.0, 0.0, 0.0, 0.0, 500.0, 157.50000029802322, 0.0, 0.0, 292.4999997019768, 0.0, 0.0, 132.50000159891837, 262.49999978712617, 0.0, 105.00000069538763], -10918.34062265891)"
      ]
     },
     "execution_count": 12,
     "metadata": {},
     "output_type": "execute_result"
    }
   ],
   "source": [
    "function lshaped_reg(A, b, c, Ξ, q, W, T, P, x0, α=0.5, max_iter=10, verbose=0)\n",
    "    \n",
    "    K = size(Ξ)[1]\n",
    "    base_θ = ones(K) * -Inf\n",
    "    stop = false\n",
    "    a_ν = x0     # Baseline solution\n",
    "    Qx = -1e10\n",
    "    e = ones(K)\n",
    "    E = ones(K, size(T)[2])\n",
    "    \n",
    "    # Expected recourse value, initial solution\n",
    "    Q = 0\n",
    "    margins = zeros(K)\n",
    "    for k = 1:K\n",
    "        λ, θ_v = second_stage_dual(a_ν, q, W, T, Ξ[k, :])\n",
    "        Q += P[k] * θ_v\n",
    "    end\n",
    "    \n",
    "    # Initializing ahead of for loops, because Julia has weird scoping\n",
    "    x_star = zeros(size(x0))\n",
    "    right_hand = 0\n",
    "    left_hand = 0\n",
    "    \n",
    "    model, x, θ = master(A, b, c, Ξ)\n",
    "    \n",
    "    # Add regularization term\n",
    "    n = size(x)[1]    \n",
    "    @variable(model, Δ_neg[1:n] >= 0)    \n",
    "    @variable(model, Δ_pos[1:n] >= 0)\n",
    "    @variable(model, a[1:n] >= 0)\n",
    "    for i = 1:n\n",
    "        @constraint(model, Δ_pos[i] - Δ_neg[i] == x[i] - a[i])\n",
    "        JuMP.fix(a[i], a_ν[i]; force = true)\n",
    "    end\n",
    "    @objective(model, Min, first_stage(x) + sum(θ) + α * (sum(Δ_neg) + sum(Δ_pos)))\n",
    "    \n",
    "    for iter = 1:max_iter\n",
    "        \n",
    "        if verbose > 0\n",
    "            println(\"\\nIteration #\", iter)\n",
    "        end\n",
    "        \n",
    "        optimize!(model)\n",
    "        status = termination_status(model)\n",
    "        if status != MOI.OPTIMAL\n",
    "            println(\"\\nERROR - status: \", status)\n",
    "            return model, status\n",
    "        end        \n",
    "        x_star = value.(x)\n",
    "        base_θ = value.(θ)\n",
    "        \n",
    "        if e'base_θ == (c'a_ν)[1] + Q\n",
    "            println(\"\\nBREAK 1\")\n",
    "            break  # a_ν is optimal\n",
    "        end\n",
    "        \n",
    "        if verbose > 0\n",
    "            println(\"\\toptimal value: \", objective_value(model),\n",
    "                    \"\\n\\tx vector: \", [round(_x * 10) / 10 for _x in x_star])\n",
    "        end\n",
    "        \n",
    "        for k = 1:K\n",
    "            \n",
    "            ξk = Ξ[k, :]\n",
    "            \n",
    "            # Get the simplex multipliers and dual program objective value\n",
    "            λ, θ_v = second_stage_dual(x_star, q, W, T, ξk)\n",
    "            \n",
    "            # Check for optimality before going any further\n",
    "            p = P[k]\n",
    "            margins[k] = p * θ_v\n",
    "            if base_θ[k] >= margins[k]\n",
    "                stop = true\n",
    "                a_ν = x_star        \n",
    "                break\n",
    "            end\n",
    "            \n",
    "            # Build optimality cuts\n",
    "            E[k, :] = p * λ'T\n",
    "            e[k] = p * λ'ξk            \n",
    "            @constraint(model, dot(E[k, :], x) + θ[k] >= e[k])\n",
    "            \n",
    "        end\n",
    "        \n",
    "        # Check if a_ν needs updating\n",
    "        Qx = sum(margins)\n",
    "        right_hand = (c'x_star)[1] + Qx\n",
    "        left_hand = (c'a_ν)[1] + Q\n",
    "        if verbose > 0\n",
    "            println(\"\\tQ: \", Q, \"\\tQx: \", Qx,\n",
    "                    \"\\n\\tright_hand: \", right_hand,\n",
    "                    \"\\n\\tleft_hand: \", left_hand)\n",
    "        end\n",
    "        if right_hand <= left_hand\n",
    "            a_ν = x_star            \n",
    "            for i = 1:n\n",
    "                JuMP.fix(a[i], a_ν[i]; force = true)\n",
    "            end\n",
    "            Q = Qx\n",
    "        end\n",
    "        \n",
    "        if stop\n",
    "            break\n",
    "        end\n",
    "        \n",
    "    end\n",
    "    \n",
    "    return model, a_ν, objective_value(model)\n",
    "        \n",
    "end\n",
    "\n",
    "α = 0.1\n",
    "x0 = zeros(15)\n",
    "# A, b, c, Ξ, q, W, T, P, x0, α=0.5, max_iter=10, verbose=0\n",
    "maxiter = 20\n",
    "verbosity = 1\n",
    "m_reg, x_reg, optimum_reg = lshaped_reg(A, b, c, ξ, q, W, T, P, x0, α, maxiter, verbosity)"
   ]
  },
  {
   "cell_type": "code",
   "execution_count": 13,
   "id": "d7af874e",
   "metadata": {},
   "outputs": [
    {
     "name": "stdout",
     "output_type": "stream",
     "text": [
      "α = 0.0\n",
      "Warning: numerical instability (primal simplex, phase I)\n",
      "Warning: numerical instability (primal simplex, phase II)\n",
      "Warning: numerical instability (primal simplex, phase I)\n",
      "Warning: numerical instability (primal simplex, phase II)\n",
      "α = 0.05\n",
      "Warning: numerical instability (primal simplex, phase I)\n",
      "Warning: numerical instability (primal simplex, phase I)\n",
      "Warning: numerical instability (primal simplex, phase I)\n",
      "Warning: numerical instability (primal simplex, phase II)\n",
      "Warning: numerical instability (primal simplex, phase II)\n",
      "Warning: numerical instability (primal simplex, phase I)\n",
      "α = 0.1\n",
      "α = 0.2\n",
      "α = 0.5\n",
      "α = 1.0\n"
     ]
    }
   ],
   "source": [
    "alphas = [0; .05; .1; .2; .5; 1.]\n",
    "headers = [\"no-reg\"]\n",
    "d = size(alphas)[1]\n",
    "X = zeros(15, d)\n",
    "optima = zeros(d)\n",
    "for i = 1:d\n",
    "    α = alphas[i]\n",
    "    println(\"α = \", α)\n",
    "    m_reg, X[:, i], optima[i] = lshaped_reg(A, b, c, ξ, q, W, T, P, x0, α)\n",
    "    push!(headers, string(\"alpha=\", α))\n",
    "end"
   ]
  },
  {
   "cell_type": "markdown",
   "id": "3c220f6a",
   "metadata": {},
   "source": [
    "## Discussion of results\n",
    "\n",
    "I wasn't quite able to implement the exact regularization technique discussion in the lecture slides and in Birge & Louveaux's textbook, since the GLPK solver does not accept quadratic constraints or objectives. However, using the L1 distance for regularization is quite close. In the circumstances of this problem, since most values are either zero or much greater than one, L1 regularization's effect is likely to be considerably smaller than L2's.  \n",
    "\n",
    "To look at the impact of different $\\alpha$ regularization hyperparameters, I ran several optimizations with different values of $\\alpha$. The following tables present the optimal decisions and objective values for each setting."
   ]
  },
  {
   "cell_type": "code",
   "execution_count": 14,
   "id": "c4d1f6ac",
   "metadata": {},
   "outputs": [
    {
     "data": {
      "text/html": [
       "<div class=\"data-frame\"><p>15 rows × 7 columns</p><table class=\"data-frame\"><thead><tr><th></th><th>alpha=0.0</th><th>alpha=0.05</th><th>alpha=0.1</th><th>alpha=0.2</th><th>alpha=0.5</th><th>alpha=1.0</th><th>no-reg</th></tr><tr><th></th><th title=\"Float64\">Float64</th><th title=\"Float64\">Float64</th><th title=\"Float64\">Float64</th><th title=\"Float64\">Float64</th><th title=\"Float64\">Float64</th><th title=\"Float64\">Float64</th><th title=\"Float64\">Float64</th></tr></thead><tbody><tr><th>1</th><td>0.0</td><td>0.0</td><td>0.0</td><td>0.0</td><td>0.0</td><td>0.0</td><td>0.0</td></tr><tr><th>2</th><td>0.0</td><td>0.0</td><td>0.0</td><td>0.0</td><td>0.0</td><td>0.0</td><td>0.0</td></tr><tr><th>3</th><td>0.0</td><td>0.0</td><td>0.0</td><td>0.0</td><td>0.0</td><td>0.0</td><td>0.0</td></tr><tr><th>4</th><td>0.0</td><td>0.0</td><td>0.0</td><td>0.0</td><td>0.0</td><td>0.0</td><td>0.0</td></tr><tr><th>5</th><td>500.0</td><td>500.0</td><td>500.0</td><td>500.0</td><td>500.0</td><td>500.0</td><td>500.0</td></tr><tr><th>6</th><td>130.0</td><td>162.5</td><td>157.5</td><td>157.5</td><td>155.0</td><td>150.0</td><td>130.0</td></tr><tr><th>7</th><td>0.0</td><td>0.0</td><td>0.0</td><td>0.0</td><td>0.0</td><td>1.12785e-14</td><td>0.0</td></tr><tr><th>8</th><td>0.0</td><td>0.0</td><td>0.0</td><td>0.0</td><td>0.0</td><td>0.0</td><td>0.0</td></tr><tr><th>9</th><td>320.0</td><td>287.5</td><td>292.5</td><td>292.5</td><td>295.0</td><td>300.0</td><td>320.0</td></tr><tr><th>10</th><td>0.0</td><td>0.0</td><td>0.0</td><td>0.0</td><td>0.0</td><td>0.0</td><td>0.0</td></tr><tr><th>11</th><td>40.0</td><td>7.5</td><td>0.0</td><td>0.0</td><td>0.0</td><td>0.0</td><td>40.0</td></tr><tr><th>12</th><td>100.0</td><td>100.0</td><td>132.5</td><td>132.5</td><td>130.0</td><td>125.0</td><td>100.0</td></tr><tr><th>13</th><td>250.0</td><td>250.0</td><td>262.5</td><td>262.5</td><td>265.0</td><td>270.0</td><td>250.0</td></tr><tr><th>14</th><td>0.0</td><td>32.5</td><td>0.0</td><td>0.0</td><td>0.0</td><td>0.0</td><td>0.0</td></tr><tr><th>15</th><td>100.0</td><td>100.0</td><td>105.0</td><td>105.0</td><td>100.0</td><td>100.0</td><td>100.0</td></tr></tbody></table></div>"
      ],
      "text/latex": [
       "\\begin{tabular}{r|ccccccc}\n",
       "\t& alpha=0.0 & alpha=0.05 & alpha=0.1 & alpha=0.2 & alpha=0.5 & alpha=1.0 & no-reg\\\\\n",
       "\t\\hline\n",
       "\t& Float64 & Float64 & Float64 & Float64 & Float64 & Float64 & Float64\\\\\n",
       "\t\\hline\n",
       "\t1 & 0.0 & 0.0 & 0.0 & 0.0 & 0.0 & 0.0 & 0.0 \\\\\n",
       "\t2 & 0.0 & 0.0 & 0.0 & 0.0 & 0.0 & 0.0 & 0.0 \\\\\n",
       "\t3 & 0.0 & 0.0 & 0.0 & 0.0 & 0.0 & 0.0 & 0.0 \\\\\n",
       "\t4 & 0.0 & 0.0 & 0.0 & 0.0 & 0.0 & 0.0 & 0.0 \\\\\n",
       "\t5 & 500.0 & 500.0 & 500.0 & 500.0 & 500.0 & 500.0 & 500.0 \\\\\n",
       "\t6 & 130.0 & 162.5 & 157.5 & 157.5 & 155.0 & 150.0 & 130.0 \\\\\n",
       "\t7 & 0.0 & 0.0 & 0.0 & 0.0 & 0.0 & 1.12785e-14 & 0.0 \\\\\n",
       "\t8 & 0.0 & 0.0 & 0.0 & 0.0 & 0.0 & 0.0 & 0.0 \\\\\n",
       "\t9 & 320.0 & 287.5 & 292.5 & 292.5 & 295.0 & 300.0 & 320.0 \\\\\n",
       "\t10 & 0.0 & 0.0 & 0.0 & 0.0 & 0.0 & 0.0 & 0.0 \\\\\n",
       "\t11 & 40.0 & 7.5 & 0.0 & 0.0 & 0.0 & 0.0 & 40.0 \\\\\n",
       "\t12 & 100.0 & 100.0 & 132.5 & 132.5 & 130.0 & 125.0 & 100.0 \\\\\n",
       "\t13 & 250.0 & 250.0 & 262.5 & 262.5 & 265.0 & 270.0 & 250.0 \\\\\n",
       "\t14 & 0.0 & 32.5 & 0.0 & 0.0 & 0.0 & 0.0 & 0.0 \\\\\n",
       "\t15 & 100.0 & 100.0 & 105.0 & 105.0 & 100.0 & 100.0 & 100.0 \\\\\n",
       "\\end{tabular}\n"
      ],
      "text/plain": [
       "\u001b[1m15×7 DataFrame\u001b[0m\n",
       "\u001b[1m Row \u001b[0m│\u001b[1m alpha=0.0 \u001b[0m\u001b[1m alpha=0.05 \u001b[0m\u001b[1m alpha=0.1 \u001b[0m\u001b[1m alpha=0.2 \u001b[0m\u001b[1m alpha=0.5 \u001b[0m\u001b[1m alpha=1.0     \u001b[0m\u001b[1m \u001b[0m ⋯\n",
       "\u001b[1m     \u001b[0m│\u001b[90m Float64   \u001b[0m\u001b[90m Float64    \u001b[0m\u001b[90m Float64   \u001b[0m\u001b[90m Float64   \u001b[0m\u001b[90m Float64   \u001b[0m\u001b[90m Float64       \u001b[0m\u001b[90m \u001b[0m ⋯\n",
       "─────┼──────────────────────────────────────────────────────────────────────────\n",
       "   1 │       0.0         0.0        0.0        0.0        0.0    0.0           ⋯\n",
       "   2 │       0.0         0.0        0.0        0.0        0.0    0.0\n",
       "   3 │       0.0         0.0        0.0        0.0        0.0    0.0\n",
       "   4 │       0.0         0.0        0.0        0.0        0.0    0.0\n",
       "   5 │     500.0       500.0      500.0      500.0      500.0  500.0           ⋯\n",
       "   6 │     130.0       162.5      157.5      157.5      155.0  150.0\n",
       "   7 │       0.0         0.0        0.0        0.0        0.0    1.12785e-14\n",
       "   8 │       0.0         0.0        0.0        0.0        0.0    0.0\n",
       "   9 │     320.0       287.5      292.5      292.5      295.0  300.0           ⋯\n",
       "  10 │       0.0         0.0        0.0        0.0        0.0    0.0\n",
       "  11 │      40.0         7.5        0.0        0.0        0.0    0.0\n",
       "  12 │     100.0       100.0      132.5      132.5      130.0  125.0\n",
       "  13 │     250.0       250.0      262.5      262.5      265.0  270.0           ⋯\n",
       "  14 │       0.0        32.5        0.0        0.0        0.0    0.0\n",
       "  15 │     100.0       100.0      105.0      105.0      100.0  100.0\n",
       "\u001b[36m                                                                1 column omitted\u001b[0m"
      ]
     },
     "execution_count": 14,
     "metadata": {},
     "output_type": "execute_result"
    }
   ],
   "source": [
    "X = [x X]\n",
    "DataFrame(Dict(\n",
    "    headers[j] => X[:, j] for j = 1:(d+1)\n",
    "))"
   ]
  },
  {
   "cell_type": "code",
   "execution_count": 15,
   "id": "f3a1b6ac",
   "metadata": {},
   "outputs": [
    {
     "data": {
      "text/html": [
       "<div class=\"data-frame\"><p>1 rows × 7 columns</p><table class=\"data-frame\"><thead><tr><th></th><th>alpha=0.0</th><th>alpha=0.05</th><th>alpha=0.1</th><th>alpha=0.2</th><th>alpha=0.5</th><th>alpha=1.0</th><th>no-reg</th></tr><tr><th></th><th title=\"Float64\">Float64</th><th title=\"Float64\">Float64</th><th title=\"Float64\">Float64</th><th title=\"Float64\">Float64</th><th title=\"Float64\">Float64</th><th title=\"Float64\">Float64</th><th title=\"Float64\">Float64</th></tr></thead><tbody><tr><th>1</th><td>-10887.3</td><td>-10878.4</td><td>-10918.3</td><td>-10865.3</td><td>-10708.7</td><td>-10457.3</td><td>-10887.3</td></tr></tbody></table></div>"
      ],
      "text/latex": [
       "\\begin{tabular}{r|ccccccc}\n",
       "\t& alpha=0.0 & alpha=0.05 & alpha=0.1 & alpha=0.2 & alpha=0.5 & alpha=1.0 & no-reg\\\\\n",
       "\t\\hline\n",
       "\t& Float64 & Float64 & Float64 & Float64 & Float64 & Float64 & Float64\\\\\n",
       "\t\\hline\n",
       "\t1 & -10887.3 & -10878.4 & -10918.3 & -10865.3 & -10708.7 & -10457.3 & -10887.3 \\\\\n",
       "\\end{tabular}\n"
      ],
      "text/plain": [
       "\u001b[1m1×7 DataFrame\u001b[0m\n",
       "\u001b[1m Row \u001b[0m│\u001b[1m alpha=0.0 \u001b[0m\u001b[1m alpha=0.05 \u001b[0m\u001b[1m alpha=0.1 \u001b[0m\u001b[1m alpha=0.2 \u001b[0m\u001b[1m alpha=0.5 \u001b[0m\u001b[1m alpha=1.0 \u001b[0m\u001b[1m no-r\u001b[0m ⋯\n",
       "\u001b[1m     \u001b[0m│\u001b[90m Float64   \u001b[0m\u001b[90m Float64    \u001b[0m\u001b[90m Float64   \u001b[0m\u001b[90m Float64   \u001b[0m\u001b[90m Float64   \u001b[0m\u001b[90m Float64   \u001b[0m\u001b[90m Floa\u001b[0m ⋯\n",
       "─────┼──────────────────────────────────────────────────────────────────────────\n",
       "   1 │  -10887.3    -10878.4   -10918.3   -10865.3   -10708.7   -10457.3  -108 ⋯\n",
       "\u001b[36m                                                                1 column omitted\u001b[0m"
      ]
     },
     "execution_count": 15,
     "metadata": {},
     "output_type": "execute_result"
    }
   ],
   "source": [
    "opt = [optimum optima']\n",
    "DataFrame(Dict(\n",
    "    headers[j] => opt[:, j] for j = 1:(d+1)\n",
    "))"
   ]
  },
  {
   "cell_type": "markdown",
   "id": "71552e4e",
   "metadata": {},
   "source": [
    "Unsurprisingly, the case where $\\alpha=0$ produces the exact same results as the unregularized L-shaped algorithm. Also, the objective value generally gets worse as $\\alpha$ increases, which fits well with one of regularization's goals, which is to reduce the risk of overfit, at the cost of the model performing less well on in-sample data. However, in the case of the L-shaped method, regularization also serves a numerical stability purpose, which perhaps explains the fact that one version of the model with *just a little bit* of regularization ($\\alpha=0.1$) performed better than the unregularized version."
   ]
  }
 ],
 "metadata": {
  "kernelspec": {
   "display_name": "Julia 1.6.2",
   "language": "julia",
   "name": "julia-1.6"
  },
  "language_info": {
   "file_extension": ".jl",
   "mimetype": "application/julia",
   "name": "julia",
   "version": "1.6.2"
  },
  "nteract": {
   "version": "0.28.0"
  }
 },
 "nbformat": 4,
 "nbformat_minor": 5
}
