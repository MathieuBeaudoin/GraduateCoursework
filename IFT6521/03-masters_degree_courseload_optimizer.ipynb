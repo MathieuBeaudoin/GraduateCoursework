{
 "cells": [
  {
   "attachments": {},
   "cell_type": "markdown",
   "metadata": {},
   "source": [
    "# Master's Degree Courseload Optimizer\n",
    "\n",
    "## Setup\n",
    "\n",
    "### Libraries"
   ]
  },
  {
   "cell_type": "code",
   "execution_count": 1,
   "metadata": {},
   "outputs": [],
   "source": [
    "import os, warnings, pickle\n",
    "import pandas as pd\n",
    "import numpy as np\n",
    "import itertools as it\n",
    "import matplotlib.pyplot as plt\n",
    "from abc import ABC, abstractmethod\n",
    "from datetime import datetime\n",
    "from scipy.optimize import minimize, Bounds, LinearConstraint\n",
    "from sklearn.linear_model import LinearRegression\n",
    "from os.path import join as pjoin\n",
    "\n",
    "try:\n",
    "    from tqdm import tqdm\n",
    "except ModuleNotFoundError:\n",
    "    # Nice to have, but not essential\n",
    "    tqdm = lambda a: a"
   ]
  },
  {
   "attachments": {},
   "cell_type": "markdown",
   "metadata": {},
   "source": [
    "### Constants"
   ]
  },
  {
   "cell_type": "code",
   "execution_count": 2,
   "metadata": {},
   "outputs": [],
   "source": [
    "# Model constants\n",
    "A, B = -10., 1.\n",
    "# Timeout setting ('None' to run full optimization)\n",
    "TIMEOUT_AFTER_BC = 30\n",
    "TIMEOUT_AFTER_IA = None\n",
    "# Paths\n",
    "DATA_DIR = \"data\"\n",
    "DATA_PATH = pjoin(DATA_DIR, \"data.csv\")\n",
    "BONUSES_PATH = pjoin(DATA_DIR, \"bonus-matrix.csv\")\n",
    "# Save long-to-compute results separately\n",
    "BC_POLICY_PATH = pjoin(DATA_DIR, \"bc_policy.pkl\")\n",
    "IA_POLICY_PATH = pjoin(DATA_DIR, \"ia_policy.pkl\")"
   ]
  },
  {
   "attachments": {},
   "cell_type": "markdown",
   "metadata": {},
   "source": [
    "### Data"
   ]
  },
  {
   "cell_type": "code",
   "execution_count": 3,
   "metadata": {},
   "outputs": [
    {
     "name": "stdout",
     "output_type": "stream",
     "text": [
      "Number of courses: 12\n",
      "\n",
      "                                   Description  Credits  Automne  Hiver\n",
      "Cours                                                                  \n",
      "ECN6573                    Économie financière        3        1      0\n",
      "ECN6578     Économétrie des marchés financiers        3        0      1\n",
      "IFT6390  Fondements de l'apprentissage machine        4        1      1\n",
      "IFT6521                Programmation dynamique        4        0      1\n",
      "IFT6561     Simulation : aspects stochastiques        4        1      0\n",
      "MAT6470                    Calcul scientifique        3        0      1\n",
      "MAT6717                           Probabilités        3        1      0\n",
      "MAT6798                    Calcul stochastique        3        0      1\n",
      "ACT6230                   Finance mathématique        3        1      0\n",
      "ECN6238                       Macroéconométrie        3        0      1\n",
      "STT6615                  Séries chronologiques        3        1      0\n",
      "FMC6000                                  Stage        9        1      1\n",
      "\n",
      "Bonuses:\n",
      "[[1.   0.1  0.   0.   0.   0.   0.   0.   0.   0.   0.   0.  ]\n",
      " [0.1  1.   0.   0.   0.   0.   0.   0.   0.   0.2  0.2  0.  ]\n",
      " [0.   0.   1.   0.1  0.   0.   0.   0.   0.   0.   0.   0.  ]\n",
      " [0.   0.   0.2  1.   0.25 0.   0.   0.   0.   0.   0.   0.  ]\n",
      " [0.   0.   0.   0.1  1.   0.   0.   0.   0.   0.   0.   0.  ]\n",
      " [0.   0.   0.   0.   0.   1.   0.2  0.2  0.   0.   0.   0.  ]\n",
      " [0.   0.   0.   0.   0.   0.   1.   0.2  0.   0.   0.   0.  ]\n",
      " [0.   0.   0.   0.   0.   0.   0.   1.   0.3  0.   0.   0.  ]\n",
      " [0.   0.   0.   0.   0.   0.   0.   0.2  1.   0.   0.   0.  ]\n",
      " [0.   0.2  0.2  0.   0.   0.   0.   0.   0.   1.   0.2  0.  ]\n",
      " [0.   0.2  0.2  0.   0.   0.   0.   0.   0.   0.2  1.   0.  ]\n",
      " [0.   0.   0.   0.   0.   0.   0.   0.   0.   0.   0.   1.  ]]\n"
     ]
    }
   ],
   "source": [
    "# Data\n",
    "DATA = pd.read_csv(DATA_PATH, index_col=0)\n",
    "N = DATA.shape[0]\n",
    "print(f\"Number of courses: {N}\\n\")\n",
    "print(DATA)\n",
    "BONUSES = pd.read_csv(BONUSES_PATH, index_col=0).to_numpy()\n",
    "print(f\"\\nBonuses:\\n{BONUSES}\")"
   ]
  },
  {
   "attachments": {},
   "cell_type": "markdown",
   "metadata": {},
   "source": [
    "## Data container"
   ]
  },
  {
   "cell_type": "code",
   "execution_count": 4,
   "metadata": {},
   "outputs": [
    {
     "name": "stdout",
     "output_type": "stream",
     "text": [
      "\n",
      "Toy problem, possibilities matrix creation:\n",
      "Base matrix:\n",
      "[[1. 1. 1. 1. 1. 1. 1. 1.]\n",
      " [1. 1. 1. 1. 1. 1. 1. 1.]\n",
      " [1. 1. 1. 1. 1. 1. 1. 1.]\n",
      " [0. 0. 0. 0. 0. 0. 0. 1.]\n",
      " [1. 1. 1. 1. 1. 1. 1. 1.]\n",
      " [1. 1. 1. 1. 1. 1. 1. 1.]\n",
      " [1. 1. 1. 1. 1. 1. 1. 1.]\n",
      " [0. 0. 0. 1. 0. 0. 0. 0.]]\n",
      "Semester filter:\n",
      "[[0. 0. 0. 0. 1. 1. 1. 1.]\n",
      " [0. 0. 0. 0. 1. 1. 1. 1.]\n",
      " [0. 0. 0. 0. 1. 1. 1. 1.]\n",
      " [0. 0. 0. 0. 1. 1. 1. 1.]\n",
      " [1. 1. 1. 1. 0. 0. 0. 0.]\n",
      " [1. 1. 1. 1. 0. 0. 0. 0.]\n",
      " [1. 1. 1. 1. 0. 0. 0. 0.]\n",
      " [1. 1. 1. 1. 0. 0. 0. 0.]]\n",
      "Passed cases:\n",
      "[[0 0]\n",
      " [0 1]\n",
      " [1 0]\n",
      " [1 1]]\n",
      "'Unpassing' filter:\n",
      "[[1 1 1 1 1 1 1 1]\n",
      " [0 1 0 1 0 1 0 1]\n",
      " [0 0 1 1 0 0 1 1]\n",
      " [0 0 0 1 0 0 0 1]\n",
      " [1 1 1 1 1 1 1 1]\n",
      " [0 1 0 1 0 1 0 1]\n",
      " [0 0 1 1 0 0 1 1]\n",
      " [0 0 0 1 0 0 0 1]]\n",
      "Availability filter:\n",
      "[[0. 0. 0. 0. 1. 0. 1. 0.]\n",
      " [0. 0. 0. 0. 1. 1. 1. 1.]\n",
      " [0. 0. 0. 0. 1. 0. 1. 0.]\n",
      " [0. 0. 0. 0. 1. 1. 1. 1.]\n",
      " [1. 1. 0. 0. 0. 0. 0. 0.]\n",
      " [1. 1. 0. 0. 0. 0. 0. 0.]\n",
      " [1. 1. 1. 1. 0. 0. 0. 0.]\n",
      " [1. 1. 1. 1. 0. 0. 0. 0.]]\n"
     ]
    },
    {
     "data": {
      "text/plain": [
       "array([[0, 0, 0, 0, 1, 0, 1, 0],\n",
       "       [0, 0, 0, 0, 0, 1, 0, 1],\n",
       "       [0, 0, 0, 0, 0, 0, 1, 0],\n",
       "       [0, 0, 0, 0, 0, 0, 0, 1],\n",
       "       [1, 1, 0, 0, 0, 0, 0, 0],\n",
       "       [0, 1, 0, 0, 0, 0, 0, 0],\n",
       "       [0, 0, 1, 1, 0, 0, 0, 0],\n",
       "       [0, 0, 0, 1, 0, 0, 0, 0]])"
      ]
     },
     "execution_count": 4,
     "metadata": {},
     "output_type": "execute_result"
    }
   ],
   "source": [
    "class DataContainer():\n",
    "\n",
    "    def __init__(self,\n",
    "                 size: int = N,\n",
    "                 starting_semester: int = 0,\n",
    "                 data: pd.DataFrame = DATA,\n",
    "                 bonus_matrix: np.ndarray = BONUSES,\n",
    "                 weight_col: str = \"Credits\",\n",
    "                 avail_cols: list = [\"Automne\", \"Hiver\"],\n",
    "                 *args, **kwargs):\n",
    "        self.n = size\n",
    "        self.start = starting_semester\n",
    "        self.weights = data[weight_col].to_numpy()[:self.n]\n",
    "        self.availability = data[avail_cols].iloc[:self.n].to_numpy()\n",
    "        self.bonuses = bonus_matrix[:self.n, :self.n] - np.eye(self.n)\n",
    "        self.names = data.index[:self.n]\n",
    "        self.poss_states = None\n",
    "        self.poss_bonuses = None\n",
    "        self.poss_transitions = None\n",
    "        self.reset()\n",
    "\n",
    "    def reset(self):\n",
    "        self.state = np.array([self.start, *np.zeros(self.n)])\n",
    "\n",
    "    def flip_semester(self, X: np.ndarray = None):\n",
    "        X = self.state if X is None else X.copy()\n",
    "        X[0] = 1 - X[0]\n",
    "        return X\n",
    "\n",
    "    def get_possible_states(self):\n",
    "        if self.poss_states is None:\n",
    "            self.poss_states = np.array([\n",
    "                *it.product([0,1], repeat=self.n+1)\n",
    "                ])\n",
    "        return self.poss_states\n",
    "    \n",
    "    def get_possible_bonuses(self):\n",
    "        if self.poss_bonuses is None:\n",
    "            self.poss_bonuses = self.get_possible_states()[:, 1:].dot(self.bonuses)\n",
    "        return self.poss_bonuses\n",
    "    \n",
    "    def get_state_index(self, X: np.ndarray=None):\n",
    "        X = self.state if X is None else X\n",
    "        eq_matrix = X[np.newaxis] == self.get_possible_states()\n",
    "        index = np.where(eq_matrix.all(axis=1))[0]\n",
    "        assert len(index) == 1, f\"Unresolved state index! State: {X}\"\n",
    "        return index[0]\n",
    "    \n",
    "    def get_possible_transitions(self, verbose: bool = False):\n",
    "        if self.poss_transitions is None:\n",
    "            states = self.get_possible_states()\n",
    "            k = states.shape[0]\n",
    "            _k = int(k / 2)\n",
    "            assert k == 2**(self.n + 1), \"Possibilities shape error!\"\n",
    "            # Shorthands\n",
    "            I = lambda n, d: np.ones((n, d))\n",
    "            Z = lambda n, d: np.zeros((n, d))\n",
    "            concat = lambda *a, **ka: np.concatenate(*a, **ka)\n",
    "            # Initialize the main matrix, initialize absorbing states\n",
    "            base_matrix = I(k, k)\n",
    "            base_matrix[[_k-1, -1]] = 0.\n",
    "            base_matrix[[_k-1, -1], [-1, _k-1]] = 1.\n",
    "            # Filter cases where we would transition to the same semester\n",
    "            semester_filter = concat([Z(_k, _k), I(_k, _k)], 1)\n",
    "            semester_filter = concat([semester_filter, semester_filter[:, ::-1]], 0)\n",
    "            # Filter cases where already-passed courses disappear\n",
    "            passed = states[:_k, 1:]\n",
    "            unpass_filter = np.array([\n",
    "                np.all(passed >= case[np.newaxis], axis=1)\n",
    "                for case in passed\n",
    "            ] * 2) * 1\n",
    "            unpass_filter = concat([unpass_filter, unpass_filter], 1)\n",
    "            # Filter cases where the transition would require passing\n",
    "            # a course that is not available in current-state semester\n",
    "            availability_filter = Z(k, k)\n",
    "            idx_sets = [np.arange(_k), np.arange(_k, k)]\n",
    "            slices = [slice(_k,k), slice(_k)]\n",
    "            for semester in [0, 1]:\n",
    "                I, J = idx_sets[semester], idx_sets[1-semester]\n",
    "                comparisons = np.array([\n",
    "                    states[J, 1:] - _state[1:][np.newaxis]\n",
    "                    for _state in states[I]\n",
    "                ]) <= self.availability[:, semester]\n",
    "                availability_filter[I, slices[semester]] = comparisons.all(-1) * 1\n",
    "            if verbose:\n",
    "                print(f\"Base matrix:\\n{base_matrix}\")\n",
    "                print(f\"Semester filter:\\n{semester_filter}\")\n",
    "                print(f\"Passed cases:\\n{passed}\")\n",
    "                print(f\"'Unpassing' filter:\\n{unpass_filter}\")\n",
    "                print(f\"Availability filter:\\n{availability_filter}\")\n",
    "            self.poss_transitions = (\n",
    "                base_matrix\n",
    "                *semester_filter\n",
    "                *unpass_filter\n",
    "                *availability_filter\n",
    "                ).astype(int)\n",
    "        return self.poss_transitions\n",
    "\n",
    "toy_problem = DataContainer(size=2)\n",
    "# Validation: static transition possibilities generator\n",
    "print(\"\\nToy problem, possibilities matrix creation:\")\n",
    "toy_problem.get_possible_transitions(verbose=True)"
   ]
  },
  {
   "cell_type": "code",
   "execution_count": 5,
   "metadata": {},
   "outputs": [
    {
     "name": "stdout",
     "output_type": "stream",
     "text": [
      "State index 0: [0. 0. 0. 0. 0. 0. 0. 0. 0. 0. 0. 0. 0.]\n",
      "Course weights: [3 3 4 4 4 3 3 3 3 3 3 9]\n",
      "[0.015625   0.0078125  0.0078125  ... 0.00012207 0.00024414 0.00012207]\n"
     ]
    }
   ],
   "source": [
    "std_problem = DataContainer()\n",
    "print(f\"State index 0: {std_problem.state}\")\n",
    "print(f\"Course weights: {std_problem.weights}\")\n",
    "print(std_problem.get_possible_transitions().mean(1))"
   ]
  },
  {
   "attachments": {},
   "cell_type": "markdown",
   "metadata": {},
   "source": [
    "## Course-passing probability"
   ]
  },
  {
   "cell_type": "code",
   "execution_count": 6,
   "metadata": {},
   "outputs": [
    {
     "name": "stdout",
     "output_type": "stream",
     "text": [
      "3     0.999089\n",
      "4     0.997527\n",
      "6     0.982014\n",
      "7     0.952574\n",
      "8     0.880797\n",
      "9     0.731059\n",
      "12    0.119203\n",
      "Name: Pr(w=1|v), dtype: float64\n"
     ]
    },
    {
     "data": {
      "image/png": "[encoded data removed]",
      "text/plain": [
       "<Figure size 640x480 with 1 Axes>"
      ]
     },
     "metadata": {},
     "output_type": "display_data"
    }
   ],
   "source": [
    "def sigmoid(x):\n",
    "    return 1 / (1 + np.exp(x))\n",
    "\n",
    "def f_w(v: np.ndarray, \n",
    "        a: float = A,\n",
    "        b: float = B,\n",
    "        eps: float = 1e-2, # Overflow encountered if much smaller\n",
    "        bonus: np.ndarray = 0.,\n",
    "        *args, **kwargs):\n",
    "    prob = sigmoid(a + b / np.maximum(eps, v) + bonus)\n",
    "    # The impossibility of zero probabilities is a consequence of\n",
    "    # the bounding of v, so we need to reintroduce zeroes\n",
    "    prob[np.isclose(prob, 0)] = 0\n",
    "    return prob\n",
    "\n",
    "loads = [*it.combinations_with_replacement(\n",
    "    [0, *np.unique(std_problem.weights)], 2)]\n",
    "loads = np.array([*{sum(l) for l in loads if 0 < sum(l) <= 12}])\n",
    "f_w_conditional = pd.Series(f_w(1 / loads), index=loads, name=\"Pr(w=1|v)\")\n",
    "print(f_w_conditional)\n",
    "\n",
    "plt.plot(f_w_conditional)\n",
    "plt.xlabel(\"Total semester load\")\n",
    "plt.ylabel(\"Probability of passing, per course\")\n",
    "plt.show()"
   ]
  },
  {
   "attachments": {},
   "cell_type": "markdown",
   "metadata": {},
   "source": [
    "## Control environment"
   ]
  },
  {
   "cell_type": "code",
   "execution_count": 7,
   "metadata": {},
   "outputs": [
    {
     "name": "stdout",
     "output_type": "stream",
     "text": [
      "State:\t\t\t[0 0 0 0 0 0 0 0 0 0 0 0 0]\n",
      "Feasible choices:\t  [1 0 1 0 1 0 1 0 1 0 1 1]\n",
      "Bonuses:\t\t[0. 0. 0. 0. 0. 0. 0. 0. 0. 0. 0. 0.]\n",
      "Credits completed:\t0\n",
      "Credits left:\t\t45\n",
      "\n",
      "After update:\n",
      "State:\t\t\t[1 0 0 0 0 0 0 0 0 0 0 0 0]\n",
      "Feasible choices:\t  [0 1 1 1 0 1 0 1 0 1 0 1]\n",
      "Bonuses:\t\t[0. 0. 0. 0. 0. 0. 0. 0. 0. 0. 0. 0.]\n",
      "Credits completed:\t0\n",
      "Credits left:\t\t45\n"
     ]
    }
   ],
   "source": [
    "def binary_array(size: int, ones_at: np.ndarray=[]): # Helper function\n",
    "    arr = np.zeros(size)\n",
    "    arr[ones_at] = 1.\n",
    "    return arr\n",
    "\n",
    "class ControlEnvironment():\n",
    "\n",
    "    def __init__(self,\n",
    "                 data: DataContainer,\n",
    "                 increment_cost: float = 4.,\n",
    "                 compl_criterion: callable = (lambda x: x == 1),\n",
    "                 **kwargs):\n",
    "        self.data = data\n",
    "        self.increment = increment_cost\n",
    "        self.compl_criterion = compl_criterion\n",
    "        self._done = False\n",
    "\n",
    "    def reset(self):\n",
    "        self.data.reset()\n",
    "        self._done = False\n",
    "\n",
    "    def get_valid_choices(self, X: np.ndarray=None):\n",
    "        X = self.data.state if X is None else X\n",
    "        if np.ndim(X) == 1:\n",
    "            semester = X[0]\n",
    "            completed = X[1:]\n",
    "            available = self.data.availability[:, int(semester)]\n",
    "        else:\n",
    "            semester = X[:, 0].astype(int)\n",
    "            completed = X[:, 1:]\n",
    "            avail = self.data.availability\n",
    "            available = np.array([\n",
    "                avail[np.repeat(i, semester.shape[0]), semester]\n",
    "                for i in range(completed.shape[1])\n",
    "            ]).T\n",
    "        return np.squeeze((1 - completed) * available)\n",
    "    \n",
    "    def validate_choices(self, choices: np.ndarray, **kwargs):\n",
    "        valid = self.get_valid_choices(**kwargs)\n",
    "        if np.any(valid - choices < 0):\n",
    "            print(f\"'passed' argument:\\n{choices}\\nValid:\\n{valid}\")\n",
    "            raise ValueError(f\"Invalid course selection!: {choices}\")\n",
    "    \n",
    "    def get_current_bonuses(self, X: np.ndarray=None):\n",
    "        if X is None:\n",
    "            X = self.data.state.copy()\n",
    "        if np.ndim(X) == 1:\n",
    "            X = X[np.newaxis]\n",
    "        return np.squeeze(X[:, 1:].dot(self.data.bonuses))\n",
    "    \n",
    "    def update_state(self, passed: np.ndarray=None):\n",
    "        # We expect either N-length binary vector, or a vector\n",
    "        # of indices\n",
    "        data = self.data\n",
    "        passed = np.zeros(data.n) if passed is None \\\n",
    "            else passed.squeeze()\n",
    "        if np.any(~np.in1d(passed, [0,1])):\n",
    "            assert np.all(passed >= 0), passed\n",
    "            assert np.all(passed < data.n), passed\n",
    "            passed = binary_array(data.n, passed)\n",
    "        elif len(passed) != data.n:\n",
    "            error_msg = \" \".join([\n",
    "                \"'passed' argument should be a vector of indices,\",\n",
    "                f\"or a binary vector of length {data.n}. Current\",\n",
    "                f\"value: {passed} (length: {len(passed)})\"\n",
    "            ])\n",
    "            raise ValueError(error_msg)\n",
    "        # Ensure the courses passed are valid\n",
    "        self.validate_choices(passed)\n",
    "        # If everything's good, update the state!\n",
    "        data.flip_semester()\n",
    "        data.state[1:] += passed\n",
    "\n",
    "    def transition_prob(self,\n",
    "                        v_t: np.ndarray,\n",
    "                        success_prob: callable = f_w,\n",
    "                        **kwargs):        \n",
    "        weights = self.data.weights\n",
    "        bonus = self.get_current_bonuses(**kwargs)\n",
    "        return success_prob(v_t/weights, bonus=bonus, **kwargs)\n",
    "    \n",
    "    def transition(self,\n",
    "                   u_t: np.ndarray,\n",
    "                   v_t: np.ndarray,\n",
    "                   **kwargs):\n",
    "        if u_t.sum() > 0:\n",
    "            w_t = np.random.binomial(\n",
    "                n = 1, \n",
    "                p = self.transition_prob(v_t=v_t, **kwargs)\n",
    "            )\n",
    "        else:\n",
    "            w_t = np.zeros_like(u_t)\n",
    "        self.update_state(passed=w_t)\n",
    "\n",
    "    def compute_progress(self):\n",
    "        weights = self.data.weights\n",
    "        completed = weights.dot(self.data.state[1:])\n",
    "        return completed / weights.sum()\n",
    "    \n",
    "    def done(self):\n",
    "        self._done = self.compl_criterion(self.compute_progress())\n",
    "        return self._done\n",
    "\n",
    "    def step_cost(self, state: np.ndarray=None):\n",
    "        if state is None:\n",
    "            state = self.data.state\n",
    "        # Going from the winter to the fall semester is more costly,\n",
    "        # since there are an extra four months in between\n",
    "        incr = self.increment\n",
    "        I_norm = state[1:].sum()\n",
    "        if I_norm == self.data.n:\n",
    "            cost = 0\n",
    "        elif state[0] == 0 and I_norm > 0:\n",
    "            cost = 2 * incr\n",
    "        else:\n",
    "            # We will assume that the case where I_norm == 0 and\n",
    "            # the current semester is Fall means that this is the\n",
    "            # first semester, rather than a carryover after failing\n",
    "            # to pass any courses in the previous Winter semester\n",
    "            cost = incr\n",
    "        return cost\n",
    "    \n",
    "    def __str__(self):\n",
    "        data = self.data\n",
    "        done = int(data.state[1:].dot(data.weights))\n",
    "        return \"\\n\".join([\n",
    "            f\"State:\\t\\t\\t{data.state.astype(int)}\",\n",
    "            f\"Feasible choices:\\t  {self.get_valid_choices().astype(int)}\",\n",
    "            f\"Bonuses:\\t\\t{self.get_current_bonuses()}\",\n",
    "            f\"Credits completed:\\t{done}\",\n",
    "            f\"Credits left:\\t\\t{int(data.weights.sum()) - done}\"\n",
    "        ])\n",
    "    \n",
    "std_problem.reset()\n",
    "std_env = ControlEnvironment(std_problem)\n",
    "print(std_env)\n",
    "std_env.update_state()\n",
    "print(f\"\\nAfter update:\\n{std_env}\")\n",
    "\n",
    "toy_problem = DataContainer(size=3) # Let's overwrite the N=2 case... TOO small!\n",
    "toy_env = ControlEnvironment(toy_problem)"
   ]
  },
  {
   "attachments": {},
   "cell_type": "markdown",
   "metadata": {},
   "source": [
    "## Policies"
   ]
  },
  {
   "cell_type": "code",
   "execution_count": 32,
   "metadata": {},
   "outputs": [],
   "source": [
    "class Policy(ABC):\n",
    "\n",
    "    def __init__(self, env: ControlEnvironment):\n",
    "        self.env = env\n",
    "        self.n = env.data.n\n",
    "        n_states = 2 ** (self.n + 1)\n",
    "        self.J = np.zeros(n_states)\n",
    "        self.v = np.zeros((n_states, self.n))\n",
    "        self.loaded = False\n",
    "        self.fitted = {}\n",
    "        self.prefitted = {}\n",
    "\n",
    "    def save(self, path: str, **extras):\n",
    "        with open(path, \"wb\") as f:\n",
    "            pickle.dump({\n",
    "                \"v\": self.v, \n",
    "                \"J\": self.J, \n",
    "                \"fitted\": self.fitted,\n",
    "                **extras\n",
    "            }, f)\n",
    "\n",
    "    def load(self, path: str):\n",
    "        with open(path, \"rb\") as f:\n",
    "            args = pickle.load(f)\n",
    "        for k, v in args.items():\n",
    "            self.__dict__[k] = v\n",
    "        self.loaded = True\n",
    "        if \"fitted\" in args:\n",
    "            self.prefitted = args[\"fitted\"]\n",
    "\n",
    "    def as_df(self):\n",
    "        data = self.env.data\n",
    "        states = data.get_possible_states()\n",
    "        semester = pd.Series(\n",
    "            np.vectorize(lambda x: \"Winter\" if x else \"Fall\")(states[:, 0]),\n",
    "            name = \"semester\"\n",
    "            ).to_frame()\n",
    "        states = pd.DataFrame(\n",
    "            states[:, 1:], \n",
    "            columns = [n + \"_Done\" for n in data.names],\n",
    "        )\n",
    "        policy = pd.DataFrame(self.v, columns=data.names)\n",
    "        return pd.concat([semester, states, policy], axis=1)\n",
    "    \n",
    "    def train(self, **kwargs):\n",
    "        pass\n",
    "\n",
    "    @abstractmethod\n",
    "    def allocate_time(self):\n",
    "        pass"
   ]
  },
  {
   "attachments": {},
   "cell_type": "markdown",
   "metadata": {},
   "source": [
    "### Random Policy"
   ]
  },
  {
   "cell_type": "code",
   "execution_count": 9,
   "metadata": {},
   "outputs": [
    {
     "name": "stdout",
     "output_type": "stream",
     "text": [
      "[0.    0.079 0.187 0.049 0.    0.336 0.    0.193 0.    0.    0.    0.157]\n",
      "(8192, 25)\n"
     ]
    },
    {
     "data": {
      "text/html": [
       "<div>\n",
       "<style scoped>\n",
       "    .dataframe tbody tr th:only-of-type {\n",
       "        vertical-align: middle;\n",
       "    }\n",
       "\n",
       "    .dataframe tbody tr th {\n",
       "        vertical-align: top;\n",
       "    }\n",
       "\n",
       "    .dataframe thead th {\n",
       "        text-align: right;\n",
       "    }\n",
       "</style>\n",
       "<table border=\"1\" class=\"dataframe\">\n",
       "  <thead>\n",
       "    <tr style=\"text-align: right;\">\n",
       "      <th></th>\n",
       "      <th>semester</th>\n",
       "      <th>ECN6573_Done</th>\n",
       "      <th>ECN6578_Done</th>\n",
       "      <th>IFT6390_Done</th>\n",
       "      <th>IFT6521_Done</th>\n",
       "      <th>IFT6561_Done</th>\n",
       "      <th>MAT6470_Done</th>\n",
       "      <th>MAT6717_Done</th>\n",
       "      <th>MAT6798_Done</th>\n",
       "      <th>ACT6230_Done</th>\n",
       "      <th>...</th>\n",
       "      <th>IFT6390</th>\n",
       "      <th>IFT6521</th>\n",
       "      <th>IFT6561</th>\n",
       "      <th>MAT6470</th>\n",
       "      <th>MAT6717</th>\n",
       "      <th>MAT6798</th>\n",
       "      <th>ACT6230</th>\n",
       "      <th>ECN6238</th>\n",
       "      <th>STT6615</th>\n",
       "      <th>FMC6000</th>\n",
       "    </tr>\n",
       "  </thead>\n",
       "  <tbody>\n",
       "    <tr>\n",
       "      <th>0</th>\n",
       "      <td>Fall</td>\n",
       "      <td>0</td>\n",
       "      <td>0</td>\n",
       "      <td>0</td>\n",
       "      <td>0</td>\n",
       "      <td>0</td>\n",
       "      <td>0</td>\n",
       "      <td>0</td>\n",
       "      <td>0</td>\n",
       "      <td>0</td>\n",
       "      <td>...</td>\n",
       "      <td>0.0</td>\n",
       "      <td>0.0</td>\n",
       "      <td>0.0</td>\n",
       "      <td>0.0</td>\n",
       "      <td>0.0</td>\n",
       "      <td>0.0</td>\n",
       "      <td>0.0</td>\n",
       "      <td>0.0</td>\n",
       "      <td>0.0</td>\n",
       "      <td>0.0</td>\n",
       "    </tr>\n",
       "    <tr>\n",
       "      <th>1</th>\n",
       "      <td>Fall</td>\n",
       "      <td>0</td>\n",
       "      <td>0</td>\n",
       "      <td>0</td>\n",
       "      <td>0</td>\n",
       "      <td>0</td>\n",
       "      <td>0</td>\n",
       "      <td>0</td>\n",
       "      <td>0</td>\n",
       "      <td>0</td>\n",
       "      <td>...</td>\n",
       "      <td>0.0</td>\n",
       "      <td>0.0</td>\n",
       "      <td>0.0</td>\n",
       "      <td>0.0</td>\n",
       "      <td>0.0</td>\n",
       "      <td>0.0</td>\n",
       "      <td>0.0</td>\n",
       "      <td>0.0</td>\n",
       "      <td>0.0</td>\n",
       "      <td>0.0</td>\n",
       "    </tr>\n",
       "    <tr>\n",
       "      <th>2</th>\n",
       "      <td>Fall</td>\n",
       "      <td>0</td>\n",
       "      <td>0</td>\n",
       "      <td>0</td>\n",
       "      <td>0</td>\n",
       "      <td>0</td>\n",
       "      <td>0</td>\n",
       "      <td>0</td>\n",
       "      <td>0</td>\n",
       "      <td>0</td>\n",
       "      <td>...</td>\n",
       "      <td>0.0</td>\n",
       "      <td>0.0</td>\n",
       "      <td>0.0</td>\n",
       "      <td>0.0</td>\n",
       "      <td>0.0</td>\n",
       "      <td>0.0</td>\n",
       "      <td>0.0</td>\n",
       "      <td>0.0</td>\n",
       "      <td>0.0</td>\n",
       "      <td>0.0</td>\n",
       "    </tr>\n",
       "    <tr>\n",
       "      <th>3</th>\n",
       "      <td>Fall</td>\n",
       "      <td>0</td>\n",
       "      <td>0</td>\n",
       "      <td>0</td>\n",
       "      <td>0</td>\n",
       "      <td>0</td>\n",
       "      <td>0</td>\n",
       "      <td>0</td>\n",
       "      <td>0</td>\n",
       "      <td>0</td>\n",
       "      <td>...</td>\n",
       "      <td>0.0</td>\n",
       "      <td>0.0</td>\n",
       "      <td>0.0</td>\n",
       "      <td>0.0</td>\n",
       "      <td>0.0</td>\n",
       "      <td>0.0</td>\n",
       "      <td>0.0</td>\n",
       "      <td>0.0</td>\n",
       "      <td>0.0</td>\n",
       "      <td>0.0</td>\n",
       "    </tr>\n",
       "    <tr>\n",
       "      <th>4</th>\n",
       "      <td>Fall</td>\n",
       "      <td>0</td>\n",
       "      <td>0</td>\n",
       "      <td>0</td>\n",
       "      <td>0</td>\n",
       "      <td>0</td>\n",
       "      <td>0</td>\n",
       "      <td>0</td>\n",
       "      <td>0</td>\n",
       "      <td>0</td>\n",
       "      <td>...</td>\n",
       "      <td>0.0</td>\n",
       "      <td>0.0</td>\n",
       "      <td>0.0</td>\n",
       "      <td>0.0</td>\n",
       "      <td>0.0</td>\n",
       "      <td>0.0</td>\n",
       "      <td>0.0</td>\n",
       "      <td>0.0</td>\n",
       "      <td>0.0</td>\n",
       "      <td>0.0</td>\n",
       "    </tr>\n",
       "  </tbody>\n",
       "</table>\n",
       "<p>5 rows × 25 columns</p>\n",
       "</div>"
      ],
      "text/plain": [
       "  semester  ECN6573_Done  ECN6578_Done  IFT6390_Done  IFT6521_Done  \\\n",
       "0     Fall             0             0             0             0   \n",
       "1     Fall             0             0             0             0   \n",
       "2     Fall             0             0             0             0   \n",
       "3     Fall             0             0             0             0   \n",
       "4     Fall             0             0             0             0   \n",
       "\n",
       "   IFT6561_Done  MAT6470_Done  MAT6717_Done  MAT6798_Done  ACT6230_Done  ...  \\\n",
       "0             0             0             0             0             0  ...   \n",
       "1             0             0             0             0             0  ...   \n",
       "2             0             0             0             0             0  ...   \n",
       "3             0             0             0             0             0  ...   \n",
       "4             0             0             0             0             0  ...   \n",
       "\n",
       "   IFT6390  IFT6521  IFT6561  MAT6470  MAT6717  MAT6798  ACT6230  ECN6238  \\\n",
       "0      0.0      0.0      0.0      0.0      0.0      0.0      0.0      0.0   \n",
       "1      0.0      0.0      0.0      0.0      0.0      0.0      0.0      0.0   \n",
       "2      0.0      0.0      0.0      0.0      0.0      0.0      0.0      0.0   \n",
       "3      0.0      0.0      0.0      0.0      0.0      0.0      0.0      0.0   \n",
       "4      0.0      0.0      0.0      0.0      0.0      0.0      0.0      0.0   \n",
       "\n",
       "   STT6615  FMC6000  \n",
       "0      0.0      0.0  \n",
       "1      0.0      0.0  \n",
       "2      0.0      0.0  \n",
       "3      0.0      0.0  \n",
       "4      0.0      0.0  \n",
       "\n",
       "[5 rows x 25 columns]"
      ]
     },
     "execution_count": 9,
     "metadata": {},
     "output_type": "execute_result"
    }
   ],
   "source": [
    "class RandomPolicy(Policy):\n",
    "\n",
    "    def select_courses(self, n: int=None, **kwargs):\n",
    "        valid = self.env.get_valid_choices()\n",
    "        n_valid = int(valid.sum())\n",
    "        if n_valid > 0:\n",
    "            if n is None:\n",
    "                n = np.random.randint(low=1, high=n_valid+1)\n",
    "            choices = np.random.choice(\n",
    "                np.where(valid)[0],\n",
    "                size = min(n, self.n, n_valid),\n",
    "                replace = False\n",
    "            ).astype(int)\n",
    "        else:\n",
    "            choices = []\n",
    "        return binary_array(\n",
    "            size = self.n,\n",
    "            ones_at = choices\n",
    "        )\n",
    "    \n",
    "    def allocate_time(self, selection: np.ndarray=None, **kwargs):\n",
    "        if selection is None:\n",
    "            selection = self.select_courses(**kwargs)\n",
    "        alloc = np.random.uniform(size=self.n) * selection\n",
    "        if selection.any():\n",
    "            alloc /= alloc.sum()\n",
    "        return alloc\n",
    "    \n",
    "random_policy = RandomPolicy(env=std_env)\n",
    "allocations = random_policy.allocate_time()\n",
    "print(np.round(allocations, 3))\n",
    "\n",
    "pol_df = random_policy.as_df()\n",
    "print(pol_df.shape)\n",
    "pol_df.head()"
   ]
  },
  {
   "attachments": {},
   "cell_type": "markdown",
   "metadata": {},
   "source": [
    "## Control episode"
   ]
  },
  {
   "cell_type": "code",
   "execution_count": 10,
   "metadata": {},
   "outputs": [
    {
     "name": "stdout",
     "output_type": "stream",
     "text": [
      "\n",
      "Choices:\t[ 0  4  8 11]\n",
      "Allocations:\t[0.3208 0.1186 0.058  0.5026]\n",
      "State:\t\t\t[1 1 0 0 0 0 0 0 0 0 0 0 0]\n",
      "Feasible choices:\t  [0 1 1 1 0 1 0 1 0 1 0 1]\n",
      "Bonuses:\t\t[0.  0.1 0.  0.  0.  0.  0.  0.  0.  0.  0.  0. ]\n",
      "Credits completed:\t3\n",
      "Credits left:\t\t42\n",
      "Cumulative cost: 4.0\n",
      "\n",
      "Choices:\t[ 2 11]\n",
      "Allocations:\t[0.1497 0.8503]\n",
      "State:\t\t\t[0 1 0 0 0 0 0 0 0 0 0 0 0]\n",
      "Feasible choices:\t  [0 0 1 0 1 0 1 0 1 0 1 1]\n",
      "Bonuses:\t\t[0.  0.1 0.  0.  0.  0.  0.  0.  0.  0.  0.  0. ]\n",
      "Credits completed:\t3\n",
      "Credits left:\t\t42\n",
      "Cumulative cost: 12.0\n",
      "\n",
      "Choices:\t[ 2  4  8 10 11]\n",
      "Allocations:\t[0.1071 0.4063 0.1665 0.2843 0.0358]\n",
      "State:\t\t\t[1 1 0 0 0 1 0 0 0 0 0 1 0]\n",
      "Feasible choices:\t  [0 1 1 1 0 1 0 1 0 1 0 1]\n",
      "Bonuses:\t\t[0.  0.3 0.2 0.1 0.  0.  0.  0.  0.  0.2 0.  0. ]\n",
      "Credits completed:\t10\n",
      "Credits left:\t\t35\n",
      "Cumulative cost: 16.0\n",
      "\n",
      "Choices:\t[2 5 9]\n",
      "Allocations:\t[0.2809 0.0734 0.6458]\n",
      "State:\t\t\t[0 1 0 0 0 1 0 0 0 0 1 1 0]\n",
      "Feasible choices:\t  [0 0 1 0 0 0 1 0 1 0 0 1]\n",
      "Bonuses:\t\t[0.  0.5 0.4 0.1 0.  0.  0.  0.  0.  0.2 0.2 0. ]\n",
      "Credits completed:\t13\n",
      "Credits left:\t\t32\n",
      "Cumulative cost: 24.0\n",
      "\n",
      "Choices:\t[ 2 11]\n",
      "Allocations:\t[0.9281 0.0719]\n",
      "State:\t\t\t[1 1 0 0 0 1 0 0 0 0 1 1 0]\n",
      "Feasible choices:\t  [0 1 1 1 0 1 0 1 0 0 0 1]\n",
      "Bonuses:\t\t[0.  0.5 0.4 0.1 0.  0.  0.  0.  0.  0.2 0.2 0. ]\n",
      "Credits completed:\t13\n",
      "Credits left:\t\t32\n",
      "Cumulative cost: 28.0\n",
      "\n",
      "Choices:\t[ 1  2  3  5 11]\n",
      "Allocations:\t[0.0533 0.3569 0.2343 0.3349 0.0206]\n",
      "State:\t\t\t[0 1 0 0 0 1 1 0 0 0 1 1 0]\n",
      "Feasible choices:\t  [0 0 1 0 0 0 1 0 1 0 0 1]\n",
      "Bonuses:\t\t[0.  0.5 0.4 0.1 0.  0.  0.2 0.2 0.  0.2 0.2 0. ]\n",
      "Credits completed:\t16\n",
      "Credits left:\t\t29\n",
      "Cumulative cost: 36.0\n",
      "\n",
      "Choices:\t[ 2  6  8 11]\n",
      "Allocations:\t[0.202  0.2274 0.024  0.5466]\n",
      "State:\t\t\t[1 1 0 0 0 1 1 0 0 0 1 1 0]\n",
      "Feasible choices:\t  [0 1 1 1 0 0 0 1 0 0 0 1]\n",
      "Bonuses:\t\t[0.  0.5 0.4 0.1 0.  0.  0.2 0.2 0.  0.2 0.2 0. ]\n",
      "Credits completed:\t16\n",
      "Credits left:\t\t29\n",
      "Cumulative cost: 40.0\n",
      "\n",
      "Choices:\t[ 1 11]\n",
      "Allocations:\t[0.122 0.878]\n",
      "State:\t\t\t[0 1 0 0 0 1 1 0 0 0 1 1 1]\n",
      "Feasible choices:\t  [0 0 1 0 0 0 1 0 1 0 0 0]\n",
      "Bonuses:\t\t[0.  0.5 0.4 0.1 0.  0.  0.2 0.2 0.  0.2 0.2 0. ]\n",
      "Credits completed:\t25\n",
      "Credits left:\t\t20\n",
      "Cumulative cost: 48.0\n",
      "\n",
      "Choices:\t[2 8]\n",
      "Allocations:\t[0.8436 0.1564]\n",
      "State:\t\t\t[1 1 0 1 0 1 1 0 0 0 1 1 1]\n",
      "Feasible choices:\t  [0 1 0 1 0 0 0 1 0 0 0 0]\n",
      "Bonuses:\t\t[0.  0.5 0.4 0.2 0.  0.  0.2 0.2 0.  0.2 0.2 0. ]\n",
      "Credits completed:\t29\n",
      "Credits left:\t\t16\n",
      "Cumulative cost: 52.0\n",
      "\n",
      "Choices:\t[3 7]\n",
      "Allocations:\t[0.8059 0.1941]\n",
      "State:\t\t\t[0 1 0 1 1 1 1 0 0 0 1 1 1]\n",
      "Feasible choices:\t  [0 0 0 0 0 0 1 0 1 0 0 0]\n",
      "Bonuses:\t\t[0.   0.5  0.6  0.2  0.25 0.   0.2  0.2  0.   0.2  0.2  0.  ]\n",
      "Credits completed:\t33\n",
      "Credits left:\t\t12\n",
      "Cumulative cost: 60.0\n",
      "\n",
      "Choices:\t[6 8]\n",
      "Allocations:\t[0.8328 0.1672]\n",
      "State:\t\t\t[1 1 0 1 1 1 1 1 0 0 1 1 1]\n",
      "Feasible choices:\t  [0 1 0 0 0 0 0 1 0 0 0 0]\n",
      "Bonuses:\t\t[0.   0.5  0.6  0.2  0.25 0.   0.2  0.4  0.   0.2  0.2  0.  ]\n",
      "Credits completed:\t36\n",
      "Credits left:\t\t9\n",
      "Cumulative cost: 64.0\n",
      "\n",
      "Choices:\t[1]\n",
      "Allocations:\t[1.]\n",
      "State:\t\t\t[0 1 1 1 1 1 1 1 0 0 1 1 1]\n",
      "Feasible choices:\t  [0 0 0 0 0 0 0 0 1 0 0 0]\n",
      "Bonuses:\t\t[0.1  0.5  0.6  0.2  0.25 0.   0.2  0.4  0.   0.4  0.4  0.  ]\n",
      "Credits completed:\t39\n",
      "Credits left:\t\t6\n",
      "Cumulative cost: 72.0\n",
      "\n",
      "Choices:\t[8]\n",
      "Allocations:\t[1.]\n",
      "State:\t\t\t[1 1 1 1 1 1 1 1 0 1 1 1 1]\n",
      "Feasible choices:\t  [0 0 0 0 0 0 0 1 0 0 0 0]\n",
      "Bonuses:\t\t[0.1  0.5  0.6  0.2  0.25 0.   0.2  0.6  0.   0.4  0.4  0.  ]\n",
      "Credits completed:\t42\n",
      "Credits left:\t\t3\n",
      "Cumulative cost: 76.0\n",
      "\n",
      "Choices:\t[7]\n",
      "Allocations:\t[1.]\n",
      "State:\t\t\t[0 1 1 1 1 1 1 1 1 1 1 1 1]\n",
      "Feasible choices:\t  [0 0 0 0 0 0 0 0 0 0 0 0]\n",
      "Bonuses:\t\t[0.1  0.5  0.6  0.2  0.25 0.   0.2  0.6  0.3  0.4  0.4  0.  ]\n",
      "Credits completed:\t45\n",
      "Credits left:\t\t0\n",
      "Cumulative cost: 76.0\n"
     ]
    }
   ],
   "source": [
    "class ControlEpisode():\n",
    "\n",
    "    def __init__(self,\n",
    "                 env: ControlEnvironment, \n",
    "                 policy: Policy = None,\n",
    "                 **kwargs):\n",
    "        self.env = env\n",
    "        self.policy = policy\n",
    "        self.reset(**kwargs)\n",
    "\n",
    "    def reset(self, state_also: bool=True):\n",
    "        self.cost = 0\n",
    "        if state_also:\n",
    "            self.env.data.reset()\n",
    "    \n",
    "    def step(self, verbose: bool=False, **kwargs):\n",
    "        v_t = self.policy.allocate_time(**kwargs)\n",
    "        u_t = (v_t > 0).astype(int)\n",
    "        if verbose:\n",
    "            choices = np.where(u_t)[0]\n",
    "            print(\"\\n\".join([\n",
    "                f\"\\nChoices:\\t{choices}\",\n",
    "                f\"Allocations:\\t{np.round(v_t[choices], 4)}\"\n",
    "            ]))\n",
    "        self.env.transition(u_t, v_t, **kwargs)\n",
    "        self.cost += self.env.step_cost()\n",
    "\n",
    "    def episode(self, verbose: bool=False):\n",
    "        self.reset(state_also=True)\n",
    "        while not self.env.done():\n",
    "            self.step(verbose=verbose)\n",
    "            if verbose:\n",
    "                msg = str(self.env) + f\"\\nCumulative cost: {self.cost}\"\n",
    "                print(msg)\n",
    "        return self.cost\n",
    "\n",
    "episode_control = ControlEpisode(\n",
    "    env = std_env,\n",
    "    policy = random_policy\n",
    ")\n",
    "_ = episode_control.episode(verbose=True)"
   ]
  },
  {
   "attachments": {},
   "cell_type": "markdown",
   "metadata": {},
   "source": [
    "## Exact optimization\n",
    "\n",
    "### Transition probability vector"
   ]
  },
  {
   "cell_type": "code",
   "execution_count": 11,
   "metadata": {},
   "outputs": [
    {
     "data": {
      "text/plain": [
       "array([0.   , 0.   , 0.   , 0.   , 0.   , 0.   , 0.   , 0.   , 0.003,\n",
       "       0.997, 0.   , 0.   , 0.   , 0.   , 0.   , 0.   ])"
      ]
     },
     "execution_count": 11,
     "metadata": {},
     "output_type": "execute_result"
    }
   ],
   "source": [
    "def transition_probs(v_t: np.ndarray,\n",
    "                     env: ControlEnvironment,\n",
    "                     state: np.ndarray = None,\n",
    "                     **kwargs):\n",
    "    u_t = (v_t > 0) * 1\n",
    "    env.validate_choices(choices=u_t, X=state)\n",
    "    data = env.data\n",
    "    if state is None:\n",
    "        state = data.state\n",
    "    # Define which next-step states are feasible\n",
    "    current = state[1:]\n",
    "    ns_states = data.get_possible_states()\n",
    "    possible = np.array([\n",
    "        np.all(state <= current + u_t)\n",
    "        for state in ns_states[:, 1:]\n",
    "    ]) * data.get_possible_transitions()[data.get_state_index(X=state)]\n",
    "    cases = ns_states[np.where(possible)[0]][:, 1:] - current[np.newaxis]\n",
    "    # Compute individual course-passing probabilities\n",
    "    p = env.transition_prob(v_t=v_t, X=state)[np.newaxis]\n",
    "    # Compute joint case probabilities\n",
    "    case_probs = np.product(\n",
    "        p * cases + (1-p) * (1-cases),\n",
    "        axis = 1\n",
    "    )\n",
    "    # Expand to match transition-matrix shape\n",
    "    pr_vector = np.zeros_like(possible).astype(float)\n",
    "    pr_vector[np.where(possible)[0]] = case_probs\n",
    "    assert np.isclose(1, case_probs.sum()), \\\n",
    "        f\"Shape: {case_probs.shape}; Sum: {case_probs.sum()}\"\n",
    "    return pr_vector\n",
    "\n",
    "toy_policy = RandomPolicy(env=toy_env)\n",
    "pr = transition_probs(\n",
    "    env = toy_env, \n",
    "    v_t = toy_policy.allocate_time(np.array([1,0,1]))\n",
    ")\n",
    "np.round(pr, 3)"
   ]
  },
  {
   "attachments": {},
   "cell_type": "markdown",
   "metadata": {},
   "source": [
    "### Single-step cost optimization"
   ]
  },
  {
   "cell_type": "code",
   "execution_count": 12,
   "metadata": {},
   "outputs": [],
   "source": [
    "def optimize_cost(valid: np.ndarray, \n",
    "                  state: np.ndarray, \n",
    "                  i: int, \n",
    "                  cost_func: callable, \n",
    "                  g: float = None,\n",
    "                  J: np.ndarray = None,\n",
    "                  verbose: bool = False,\n",
    "                  eps: float = 1e-5,\n",
    "                  **kwargs):\n",
    "    valid = np.squeeze(valid)\n",
    "    assert np.ndim(valid) == 1,\\\n",
    "        f\"'valid' argument needs to be 1-dimensional, current shape: {valid.shape}\"\n",
    "    first_guess = valid / max(1., valid.sum())\n",
    "    func_args = (valid, state, i, g, J)\n",
    "    if np.sum(first_guess > 0) <= 1:\n",
    "        v = first_guess\n",
    "    else:\n",
    "        with warnings.catch_warnings():\n",
    "            warnings.filterwarnings(\"ignore\")\n",
    "            d = len(first_guess)\n",
    "            optim_args = { # Saved in a dictionary for easier debugging\n",
    "                \"fun\": cost_func,\n",
    "                \"x0\": first_guess,\n",
    "                \"args\": func_args,\n",
    "                \"bounds\": Bounds(lb=0., ub=1),\n",
    "                \"constraints\": [\n",
    "                    LinearConstraint(A=np.ones(d), lb=1., ub=1.),\n",
    "                    LinearConstraint(A=np.eye(d), lb=0., ub=valid+eps)\n",
    "                ]\n",
    "            }\n",
    "            optim = minimize(**optim_args)\n",
    "        v = optim.x * valid\n",
    "        v /= v.sum()\n",
    "        if verbose:\n",
    "            print(f\"\\n\\t\".join([\n",
    "                \"Optimization...\",\n",
    "                f\"Worked: {optim.success}\",\n",
    "                f\"Result: {v}\"]))\n",
    "        if not optim.success:\n",
    "            print(f\"Optimization didn't work!!!\\n{optim}\")\n",
    "    _J = cost_func(v, *func_args, verbose=verbose)\n",
    "    return v, _J"
   ]
  },
  {
   "attachments": {},
   "cell_type": "markdown",
   "metadata": {},
   "source": [
    "### Back-chain policy"
   ]
  },
  {
   "cell_type": "code",
   "execution_count": 27,
   "metadata": {},
   "outputs": [
    {
     "name": "stdout",
     "output_type": "stream",
     "text": [
      "Backchain from N=3\n",
      "\n",
      "k == 2: 3 pairs\n"
     ]
    },
    {
     "name": "stderr",
     "output_type": "stream",
     "text": [
      "100%|██████████| 3/3 [00:00<00:00, 602.25it/s]\n"
     ]
    },
    {
     "name": "stdout",
     "output_type": "stream",
     "text": [
      "\n",
      "k == 1: 3 pairs\n"
     ]
    },
    {
     "name": "stderr",
     "output_type": "stream",
     "text": [
      "100%|██████████| 3/3 [00:00<00:00, 100.33it/s]\n"
     ]
    },
    {
     "name": "stdout",
     "output_type": "stream",
     "text": [
      "\n",
      "k == 0: 1 pairs\n"
     ]
    },
    {
     "name": "stderr",
     "output_type": "stream",
     "text": [
      "100%|██████████| 1/1 [00:00<00:00, 50.17it/s]"
     ]
    },
    {
     "name": "stdout",
     "output_type": "stream",
     "text": [
      "\n",
      "Policy by state:\n"
     ]
    },
    {
     "name": "stderr",
     "output_type": "stream",
     "text": [
      "\n"
     ]
    },
    {
     "data": {
      "text/html": [
       "<div>\n",
       "<style scoped>\n",
       "    .dataframe tbody tr th:only-of-type {\n",
       "        vertical-align: middle;\n",
       "    }\n",
       "\n",
       "    .dataframe tbody tr th {\n",
       "        vertical-align: top;\n",
       "    }\n",
       "\n",
       "    .dataframe thead th {\n",
       "        text-align: right;\n",
       "    }\n",
       "</style>\n",
       "<table border=\"1\" class=\"dataframe\">\n",
       "  <thead>\n",
       "    <tr style=\"text-align: right;\">\n",
       "      <th></th>\n",
       "      <th>semester</th>\n",
       "      <th>ECN6573_Done</th>\n",
       "      <th>ECN6578_Done</th>\n",
       "      <th>IFT6390_Done</th>\n",
       "      <th>ECN6573</th>\n",
       "      <th>ECN6578</th>\n",
       "      <th>IFT6390</th>\n",
       "    </tr>\n",
       "  </thead>\n",
       "  <tbody>\n",
       "    <tr>\n",
       "      <th>0</th>\n",
       "      <td>Fall</td>\n",
       "      <td>0</td>\n",
       "      <td>0</td>\n",
       "      <td>0</td>\n",
       "      <td>0.503155</td>\n",
       "      <td>0.000000</td>\n",
       "      <td>0.496845</td>\n",
       "    </tr>\n",
       "    <tr>\n",
       "      <th>1</th>\n",
       "      <td>Fall</td>\n",
       "      <td>0</td>\n",
       "      <td>0</td>\n",
       "      <td>1</td>\n",
       "      <td>1.000000</td>\n",
       "      <td>0.000000</td>\n",
       "      <td>0.000000</td>\n",
       "    </tr>\n",
       "    <tr>\n",
       "      <th>2</th>\n",
       "      <td>Fall</td>\n",
       "      <td>0</td>\n",
       "      <td>1</td>\n",
       "      <td>0</td>\n",
       "      <td>0.472750</td>\n",
       "      <td>0.000000</td>\n",
       "      <td>0.527250</td>\n",
       "    </tr>\n",
       "    <tr>\n",
       "      <th>3</th>\n",
       "      <td>Fall</td>\n",
       "      <td>0</td>\n",
       "      <td>1</td>\n",
       "      <td>1</td>\n",
       "      <td>1.000000</td>\n",
       "      <td>0.000000</td>\n",
       "      <td>0.000000</td>\n",
       "    </tr>\n",
       "    <tr>\n",
       "      <th>4</th>\n",
       "      <td>Fall</td>\n",
       "      <td>1</td>\n",
       "      <td>0</td>\n",
       "      <td>0</td>\n",
       "      <td>0.000000</td>\n",
       "      <td>0.000000</td>\n",
       "      <td>1.000000</td>\n",
       "    </tr>\n",
       "    <tr>\n",
       "      <th>5</th>\n",
       "      <td>Fall</td>\n",
       "      <td>1</td>\n",
       "      <td>0</td>\n",
       "      <td>1</td>\n",
       "      <td>0.000000</td>\n",
       "      <td>0.000000</td>\n",
       "      <td>0.000000</td>\n",
       "    </tr>\n",
       "    <tr>\n",
       "      <th>6</th>\n",
       "      <td>Fall</td>\n",
       "      <td>1</td>\n",
       "      <td>1</td>\n",
       "      <td>0</td>\n",
       "      <td>0.000000</td>\n",
       "      <td>0.000000</td>\n",
       "      <td>1.000000</td>\n",
       "    </tr>\n",
       "    <tr>\n",
       "      <th>7</th>\n",
       "      <td>Fall</td>\n",
       "      <td>1</td>\n",
       "      <td>1</td>\n",
       "      <td>1</td>\n",
       "      <td>0.000000</td>\n",
       "      <td>0.000000</td>\n",
       "      <td>0.000000</td>\n",
       "    </tr>\n",
       "    <tr>\n",
       "      <th>8</th>\n",
       "      <td>Winter</td>\n",
       "      <td>0</td>\n",
       "      <td>0</td>\n",
       "      <td>0</td>\n",
       "      <td>0.000000</td>\n",
       "      <td>0.493014</td>\n",
       "      <td>0.506986</td>\n",
       "    </tr>\n",
       "    <tr>\n",
       "      <th>9</th>\n",
       "      <td>Winter</td>\n",
       "      <td>0</td>\n",
       "      <td>0</td>\n",
       "      <td>1</td>\n",
       "      <td>0.000000</td>\n",
       "      <td>1.000000</td>\n",
       "      <td>0.000000</td>\n",
       "    </tr>\n",
       "    <tr>\n",
       "      <th>10</th>\n",
       "      <td>Winter</td>\n",
       "      <td>0</td>\n",
       "      <td>1</td>\n",
       "      <td>0</td>\n",
       "      <td>0.000000</td>\n",
       "      <td>0.000000</td>\n",
       "      <td>1.000000</td>\n",
       "    </tr>\n",
       "    <tr>\n",
       "      <th>11</th>\n",
       "      <td>Winter</td>\n",
       "      <td>0</td>\n",
       "      <td>1</td>\n",
       "      <td>1</td>\n",
       "      <td>0.000000</td>\n",
       "      <td>0.000000</td>\n",
       "      <td>0.000000</td>\n",
       "    </tr>\n",
       "    <tr>\n",
       "      <th>12</th>\n",
       "      <td>Winter</td>\n",
       "      <td>1</td>\n",
       "      <td>0</td>\n",
       "      <td>0</td>\n",
       "      <td>0.000000</td>\n",
       "      <td>0.451715</td>\n",
       "      <td>0.548285</td>\n",
       "    </tr>\n",
       "    <tr>\n",
       "      <th>13</th>\n",
       "      <td>Winter</td>\n",
       "      <td>1</td>\n",
       "      <td>0</td>\n",
       "      <td>1</td>\n",
       "      <td>0.000000</td>\n",
       "      <td>1.000000</td>\n",
       "      <td>0.000000</td>\n",
       "    </tr>\n",
       "    <tr>\n",
       "      <th>14</th>\n",
       "      <td>Winter</td>\n",
       "      <td>1</td>\n",
       "      <td>1</td>\n",
       "      <td>0</td>\n",
       "      <td>0.000000</td>\n",
       "      <td>0.000000</td>\n",
       "      <td>1.000000</td>\n",
       "    </tr>\n",
       "    <tr>\n",
       "      <th>15</th>\n",
       "      <td>Winter</td>\n",
       "      <td>1</td>\n",
       "      <td>1</td>\n",
       "      <td>1</td>\n",
       "      <td>0.000000</td>\n",
       "      <td>0.000000</td>\n",
       "      <td>0.000000</td>\n",
       "    </tr>\n",
       "  </tbody>\n",
       "</table>\n",
       "</div>"
      ],
      "text/plain": [
       "   semester  ECN6573_Done  ECN6578_Done  IFT6390_Done   ECN6573   ECN6578  \\\n",
       "0      Fall             0             0             0  0.503155  0.000000   \n",
       "1      Fall             0             0             1  1.000000  0.000000   \n",
       "2      Fall             0             1             0  0.472750  0.000000   \n",
       "3      Fall             0             1             1  1.000000  0.000000   \n",
       "4      Fall             1             0             0  0.000000  0.000000   \n",
       "5      Fall             1             0             1  0.000000  0.000000   \n",
       "6      Fall             1             1             0  0.000000  0.000000   \n",
       "7      Fall             1             1             1  0.000000  0.000000   \n",
       "8    Winter             0             0             0  0.000000  0.493014   \n",
       "9    Winter             0             0             1  0.000000  1.000000   \n",
       "10   Winter             0             1             0  0.000000  0.000000   \n",
       "11   Winter             0             1             1  0.000000  0.000000   \n",
       "12   Winter             1             0             0  0.000000  0.451715   \n",
       "13   Winter             1             0             1  0.000000  1.000000   \n",
       "14   Winter             1             1             0  0.000000  0.000000   \n",
       "15   Winter             1             1             1  0.000000  0.000000   \n",
       "\n",
       "     IFT6390  \n",
       "0   0.496845  \n",
       "1   0.000000  \n",
       "2   0.527250  \n",
       "3   0.000000  \n",
       "4   1.000000  \n",
       "5   0.000000  \n",
       "6   1.000000  \n",
       "7   0.000000  \n",
       "8   0.506986  \n",
       "9   0.000000  \n",
       "10  1.000000  \n",
       "11  0.000000  \n",
       "12  0.548285  \n",
       "13  0.000000  \n",
       "14  1.000000  \n",
       "15  0.000000  "
      ]
     },
     "execution_count": 27,
     "metadata": {},
     "output_type": "execute_result"
    }
   ],
   "source": [
    "class BackChainPolicy(Policy):\n",
    "\n",
    "    def allocate_time(self, *args, **kwargs):\n",
    "        i = self.env.data.get_state_index()\n",
    "        return self.v[i]\n",
    "    \n",
    "    def expected_cost(self,\n",
    "                      v_t: np.ndarray,\n",
    "                      valid: np.ndarray,\n",
    "                      state: np.ndarray,\n",
    "                      state_index: int = None, # Compatibility placeholder\n",
    "                      g: float = 0.,\n",
    "                      J: np.ndarray = None,\n",
    "                      **kwargs):\n",
    "        if J is None:\n",
    "            J = self.J\n",
    "        v_t = np.minimum(v_t, valid)\n",
    "        p = transition_probs(v_t, env=self.env, state=state, **kwargs)\n",
    "        return g + p.dot(J)\n",
    "\n",
    "    def pair_optimization(self, \n",
    "                          pair: np.ndarray, \n",
    "                          indices: list, \n",
    "                          eps: float = 1e-5,\n",
    "                          max_iter: int = 10,\n",
    "                          verbosity: int = 0,\n",
    "                          **kwargs):\n",
    "        J = self.J.copy()\n",
    "        env = self.env\n",
    "        g = [env.step_cost(state=p.squeeze()) for p in pair]\n",
    "        choices = np.array([\n",
    "            env.get_valid_choices(X=p)\n",
    "            for p in pair\n",
    "            ])\n",
    "        for _ in range(max_iter):\n",
    "            converged = [0, 0]\n",
    "            for m in [0, 1]:\n",
    "                i = indices[m]\n",
    "                self.v[i], _J = optimize_cost(\n",
    "                    valid = choices[m],\n",
    "                    state = pair[m],\n",
    "                    i = i,\n",
    "                    cost_func = self.expected_cost,\n",
    "                    g = g[m],\n",
    "                    J = J,\n",
    "                    verbose = verbosity > 1\n",
    "                )\n",
    "                converged[m] = abs(_J - J[i]) < eps\n",
    "                J[i] = _J\n",
    "            if np.all(converged):\n",
    "                break\n",
    "        if verbosity > 0:\n",
    "            print(f\"J = {np.round(J,4)}\")\n",
    "        self.J = J\n",
    "\n",
    "    def train(self,\n",
    "              verbosity: int = 0, \n",
    "              time_limit: int = None,\n",
    "              warm_start: str = None,\n",
    "              save_to: str = None,\n",
    "              **kwargs):\n",
    "        timeout = False\n",
    "        if time_limit is not None:\n",
    "            start = datetime.now()\n",
    "        data = self.env.data\n",
    "        possible = data.get_possible_states()\n",
    "        K = possible[:, 1:].sum(1)\n",
    "        N = self.n\n",
    "        if verbosity > 0:\n",
    "            print(f\"Backchain from N={N}\")\n",
    "        if warm_start is not None:\n",
    "            try:\n",
    "                if not self.loaded:\n",
    "                    self.load(warm_start)\n",
    "                if verbosity > 0:\n",
    "                    print(f\"Loaded warm start from {warm_start}\")\n",
    "            except FileNotFoundError:\n",
    "                if verbosity > 0:\n",
    "                    print(f\"Could not load {warm_start}!\")\n",
    "        for k in np.arange(N - 1, -1, -1):\n",
    "            if timeout:\n",
    "                raise TimeoutError(\"This is taking too long!\")\n",
    "            if self.fitted.get(k, False):\n",
    "                continue\n",
    "            iterator = possible[np.where(K == k)[0]]\n",
    "            iterator = iterator[:int(iterator.shape[0] / 2)]\n",
    "            if verbosity > 0:\n",
    "                print(f\"\\nk == {k}: {len(iterator)} pairs\")\n",
    "                iterator = tqdm(iterator)\n",
    "            for X in iterator:\n",
    "                if time_limit is not None:\n",
    "                    elapsed = (datetime.now() - start).seconds\n",
    "                    timeout = elapsed >= time_limit\n",
    "                    if timeout:\n",
    "                        break\n",
    "                i = data.get_state_index(X)\n",
    "                indices = [i, i + 2 ** N]\n",
    "                pair = possible[indices]\n",
    "                self.pair_optimization(\n",
    "                    pair, \n",
    "                    indices, \n",
    "                    verbosity = verbosity - 1,\n",
    "                    **kwargs\n",
    "                )\n",
    "            self.fitted[k] = True\n",
    "            if save_to is not None:\n",
    "                self.save(path=save_to)\n",
    "            if verbosity > 1:\n",
    "                print(f\"Estimated values: {self.J}\")\n",
    "\n",
    "toy_bc_policy = BackChainPolicy(toy_env)\n",
    "toy_bc_policy.train(verbosity=1)\n",
    "print(\"\\nPolicy by state:\")\n",
    "toy_bc_policy.as_df()"
   ]
  },
  {
   "attachments": {},
   "cell_type": "markdown",
   "metadata": {},
   "source": [
    "### Comparison to random policy"
   ]
  },
  {
   "cell_type": "code",
   "execution_count": 38,
   "metadata": {},
   "outputs": [],
   "source": [
    "def compare_policies(env: ControlEnvironment,\n",
    "                     policy_types: dict = {\n",
    "                        \"random\": RandomPolicy,\n",
    "                        \"backchain\": BackChainPolicy},\n",
    "                     policies: dict = {},\n",
    "                     n_sim: int = 1000,\n",
    "                     verbosity: int = 0,\n",
    "                     *args, **kwargs):\n",
    "    \n",
    "    if len(policies) < len(policy_types):\n",
    "        for _type, policy_type in policy_types.items():\n",
    "            if _type in policies:\n",
    "                continue\n",
    "            if verbosity > 0:\n",
    "                print(f\"\\nInstantiating and training {_type} policy...\")\n",
    "            policies[_type] = policy_type(env=env, **kwargs)\n",
    "            policies[_type].train(verbosity=verbosity-1, **kwargs)\n",
    "    \n",
    "    perfs = {}\n",
    "    for _type, policy in policies.items():\n",
    "        if verbosity > 0:\n",
    "            print(f\"\\nSimulating performance for {_type} policy...\")\n",
    "        control = ControlEpisode(env=env, policy=policy)\n",
    "        iterator = range(n_sim) if verbosity <= 0 else tqdm(range(n_sim))\n",
    "        perf = np.array([control.episode() for _ in iterator])\n",
    "        perfs[_type] = perf\n",
    "        if verbosity > 0:\n",
    "            print(f\"\\tMean: {perf.mean()}\\n\\tStandard deviation: {perf.std()}\")\n",
    "    for k, v in perfs.items():\n",
    "        plt.hist(v, alpha=.8, label=k)\n",
    "    plt.title(\"Cost distribution\")\n",
    "    plt.legend()\n",
    "    plt.show()"
   ]
  },
  {
   "attachments": {},
   "cell_type": "markdown",
   "metadata": {},
   "source": [
    "#### Toy problem"
   ]
  },
  {
   "cell_type": "code",
   "execution_count": 15,
   "metadata": {},
   "outputs": [
    {
     "name": "stdout",
     "output_type": "stream",
     "text": [
      "\n",
      "Instantiating and training random policy...\n",
      "\n",
      "Instantiating and training backchain policy...\n",
      "\n",
      "Simulating performance for random policy...\n"
     ]
    },
    {
     "name": "stderr",
     "output_type": "stream",
     "text": [
      "100%|██████████| 1000/1000 [00:00<00:00, 2733.87it/s]\n"
     ]
    },
    {
     "name": "stdout",
     "output_type": "stream",
     "text": [
      "\tMean: 10.44\n",
      "\tStandard deviation: 4.300511597473027\n",
      "\n",
      "Simulating performance for backchain policy...\n"
     ]
    },
    {
     "name": "stderr",
     "output_type": "stream",
     "text": [
      "100%|██████████| 1000/1000 [00:00<00:00, 5067.34it/s]\n"
     ]
    },
    {
     "name": "stdout",
     "output_type": "stream",
     "text": [
      "\tMean: 4.288\n",
      "\tStandard deviation: 1.5839999999999999\n"
     ]
    },
    {
     "data": {
      "image/png": "[encoded data removed]",
      "text/plain": [
       "<Figure size 640x480 with 1 Axes>"
      ]
     },
     "metadata": {},
     "output_type": "display_data"
    }
   ],
   "source": [
    "compare_policies(env=toy_env, verbosity=1)"
   ]
  },
  {
   "attachments": {},
   "cell_type": "markdown",
   "metadata": {},
   "source": [
    "#### Intermediate problem"
   ]
  },
  {
   "cell_type": "code",
   "execution_count": 16,
   "metadata": {},
   "outputs": [],
   "source": [
    "interm_problem = DataContainer(size=6)"
   ]
  },
  {
   "cell_type": "code",
   "execution_count": 17,
   "metadata": {},
   "outputs": [
    {
     "name": "stdout",
     "output_type": "stream",
     "text": [
      "Backchain from N=6\n",
      "\n",
      "k == 5: 6 pairs\n"
     ]
    },
    {
     "name": "stderr",
     "output_type": "stream",
     "text": [
      "100%|██████████| 6/6 [00:00<00:00, 182.45it/s]\n"
     ]
    },
    {
     "name": "stdout",
     "output_type": "stream",
     "text": [
      "\n",
      "k == 4: 15 pairs\n"
     ]
    },
    {
     "name": "stderr",
     "output_type": "stream",
     "text": [
      "100%|██████████| 15/15 [00:00<00:00, 19.83it/s]\n"
     ]
    },
    {
     "name": "stdout",
     "output_type": "stream",
     "text": [
      "\n",
      "k == 3: 20 pairs\n"
     ]
    },
    {
     "name": "stderr",
     "output_type": "stream",
     "text": [
      "100%|██████████| 20/20 [00:01<00:00, 10.82it/s]\n"
     ]
    },
    {
     "name": "stdout",
     "output_type": "stream",
     "text": [
      "\n",
      "k == 2: 15 pairs\n"
     ]
    },
    {
     "name": "stderr",
     "output_type": "stream",
     "text": [
      "100%|██████████| 15/15 [00:02<00:00,  7.41it/s]\n"
     ]
    },
    {
     "name": "stdout",
     "output_type": "stream",
     "text": [
      "\n",
      "k == 1: 6 pairs\n"
     ]
    },
    {
     "name": "stderr",
     "output_type": "stream",
     "text": [
      "100%|██████████| 6/6 [00:01<00:00,  3.57it/s]\n"
     ]
    },
    {
     "name": "stdout",
     "output_type": "stream",
     "text": [
      "\n",
      "k == 0: 1 pairs\n"
     ]
    },
    {
     "name": "stderr",
     "output_type": "stream",
     "text": [
      "100%|██████████| 1/1 [00:00<00:00,  5.77it/s]\n"
     ]
    }
   ],
   "source": [
    "interm_env = ControlEnvironment(interm_problem)\n",
    "interm_bc_policy = BackChainPolicy(interm_env)\n",
    "interm_bc_policy.train(verbosity=1)"
   ]
  },
  {
   "cell_type": "code",
   "execution_count": 18,
   "metadata": {},
   "outputs": [
    {
     "name": "stdout",
     "output_type": "stream",
     "text": [
      "\n",
      "Instantiating and training random policy...\n",
      "\n",
      "Simulating performance for backchain policy...\n"
     ]
    },
    {
     "name": "stderr",
     "output_type": "stream",
     "text": [
      "100%|██████████| 1000/1000 [00:00<00:00, 2117.42it/s]\n"
     ]
    },
    {
     "name": "stdout",
     "output_type": "stream",
     "text": [
      "\tMean: 16.78\n",
      "\tStandard deviation: 2.4231384607570408\n",
      "\n",
      "Simulating performance for random policy...\n"
     ]
    },
    {
     "name": "stderr",
     "output_type": "stream",
     "text": [
      "100%|██████████| 1000/1000 [00:00<00:00, 1266.85it/s]\n"
     ]
    },
    {
     "name": "stdout",
     "output_type": "stream",
     "text": [
      "\tMean: 26.972\n",
      "\tStandard deviation: 6.203161774450187\n"
     ]
    },
    {
     "data": {
      "image/png": "[encoded data removed]",
      "text/plain": [
       "<Figure size 640x480 with 1 Axes>"
      ]
     },
     "metadata": {},
     "output_type": "display_data"
    }
   ],
   "source": [
    "compare_policies(\n",
    "    env = interm_env, \n",
    "    verbosity = 1,\n",
    "    policies = {\"backchain\": interm_bc_policy}\n",
    ")"
   ]
  },
  {
   "attachments": {},
   "cell_type": "markdown",
   "metadata": {},
   "source": [
    "## Approximation\n",
    "\n",
    "### Iterative approximation policy\n",
    "\n",
    "I created `compute_features` and `model_init` as standalone functions, to experiment more easily with different feature transformations."
   ]
  },
  {
   "cell_type": "code",
   "execution_count": 19,
   "metadata": {},
   "outputs": [],
   "source": [
    "def compute_features(state: np.ndarray,\n",
    "                       env: ControlEnvironment, \n",
    "                       state_index: int = None,\n",
    "                       **kwargs):\n",
    "    data = env.data\n",
    "    done = state[1:]\n",
    "    if state_index is None:\n",
    "        state_index = data.get_state_index(state)\n",
    "    # Easy scalars\n",
    "    completion_ratio = done.mean()\n",
    "    current_semester = state[0]\n",
    "    # Acquired bonus\n",
    "    bonuses = data.bonuses.sum(1)\n",
    "    potential_bonus = bonuses.sum()\n",
    "    if potential_bonus > 0:\n",
    "        acquired_bonus = done.dot(bonuses) / potential_bonus\n",
    "    else:\n",
    "        acquired_bonus = 0\n",
    "    # Credits left to do\n",
    "    credits_left = data.weights.dot(1 - done)\n",
    "    # Possible courses this semester\n",
    "    feasible_current = env.get_valid_choices(X=state)\n",
    "    feasible_credits_current = data.weights.dot(feasible_current)\n",
    "    return np.array([\n",
    "        1., # Intercept\n",
    "        credits_left,\n",
    "        completion_ratio,\n",
    "        current_semester,\n",
    "        acquired_bonus,\n",
    "        feasible_current.sum(),\n",
    "        feasible_credits_current\n",
    "    ])\n",
    "\n",
    "def model_init(**kwargs):\n",
    "    features = compute_features(**kwargs)\n",
    "    model = np.zeros_like(features)\n",
    "    model[1] = .125 # Estimating a rythm of 8 credits per semester\n",
    "    return model"
   ]
  },
  {
   "cell_type": "code",
   "execution_count": 33,
   "metadata": {},
   "outputs": [
    {
     "name": "stdout",
     "output_type": "stream",
     "text": [
      "\n",
      "Iteration: 1 (n==2)  => Convergence metric: 8.642092853834319\n",
      "Iteration: 2 (n==2)  => Convergence metric: 0.5482586559718834\n",
      "Iteration: 3 (n==2)  => Convergence metric: 0.1835431364570399\n",
      "Iteration: 4 (n==2)  => Convergence metric: 0.06132738488763608\n",
      "Iteration: 5 (n==2)  => Convergence metric: 0.02051359040657295\n",
      "Iteration: 6 (n==2)  => Convergence metric: 0.006861654486759366\n",
      "Iteration: 7 (n==2)  => Convergence metric: 0.002295176295362158\n",
      "Iteration: 8 (n==2)  => Convergence metric: 0.0007677207059733714\n",
      "\n",
      "Iteration: 1 (n==1)  => Convergence metric: 11.977131035016228\n",
      "Iteration: 2 (n==1)  => Convergence metric: 0.6713704939347099\n",
      "Iteration: 3 (n==1)  => Convergence metric: 0.001234192699791054\n",
      "Iteration: 4 (n==1)  => Convergence metric: 2.664083609782712e-06\n",
      "\n",
      "Iteration: 1 (n==0)  => Convergence metric: 5.656854249492377\n",
      "Iteration: 2 (n==0)  => Convergence metric: 3.727509063469498\n",
      "Iteration: 3 (n==0)  => Convergence metric: 0.007991812172966477\n",
      "Iteration: 4 (n==0)  => Convergence metric: 1.7134515496808376e-05\n",
      "\n",
      "Refining policy...\n"
     ]
    },
    {
     "name": "stderr",
     "output_type": "stream",
     "text": [
      "100%|██████████| 16/16 [00:00<00:00, 891.93it/s]\n"
     ]
    }
   ],
   "source": [
    "class IterativeApproximationPolicy(Policy):\n",
    "\n",
    "    def __init__(self, \n",
    "                 feature_func: callable = compute_features, \n",
    "                 model_init_func: callable = model_init,\n",
    "                 *args, **kwargs):\n",
    "        super().__init__(*args, **kwargs)\n",
    "        self.feature_func = feature_func\n",
    "        self.model_init_func = model_init_func\n",
    "        self.models = {}\n",
    "        self.features = None\n",
    "        possible = self.env.data.get_possible_states()\n",
    "        self.I = possible[:, 1:].sum(1)\n",
    "        self.fitted = {}\n",
    "        # Initial estimations equal to step costs\n",
    "        self.g = np.array([\n",
    "            self.env.step_cost(state=X)\n",
    "            for X in possible\n",
    "        ])\n",
    "        self.J = self.g.copy()\n",
    "        self._J_hat = self.J.copy()\n",
    "        \n",
    "    def allocate_time(self,\n",
    "                      state: np.ndarray = None,\n",
    "                      state_index: int = None,\n",
    "                      **kwargs):\n",
    "        if state_index is None:\n",
    "            state_index = self.env.data.get_state_index(X=state)\n",
    "        return self.v[state_index]\n",
    "        \n",
    "    def get_features(self, **kwargs):\n",
    "        if self.features is None:\n",
    "            possible_states = self.env.data.get_possible_states()\n",
    "            self.features = [\n",
    "                self.feature_func(state=state, env=self.env, **kwargs) \n",
    "                for state in possible_states\n",
    "            ]\n",
    "        return self.features\n",
    "        \n",
    "    def get_model(self, k: int=None, index: int=None, **kwargs):\n",
    "        if k is None:\n",
    "            k = self.I[index]\n",
    "        model = self.models.get(k, None)\n",
    "        if model is None:\n",
    "            state = self.env.data.get_possible_states()[index]\n",
    "            self.models[k] = self.model_init_func(state=state, env=self.env)\n",
    "        return self.models[k]\n",
    "\n",
    "    def compute_J_hat(self, \n",
    "                      features: np.ndarray, \n",
    "                      index: int,\n",
    "                      k: int = None, \n",
    "                      **kwargs):\n",
    "        model = self.get_model(index=index, **kwargs)\n",
    "        return model.dot(features)\n",
    "    \n",
    "    def expected_cost(self,\n",
    "                      v_t: np.ndarray,\n",
    "                      valid: np.ndarray,\n",
    "                      state: np.ndarray = None,\n",
    "                      state_index: int = None,\n",
    "                      g: float = None,\n",
    "                      J: np.ndarray = None,\n",
    "                      verbose: bool = False,\n",
    "                      **kwargs):\n",
    "        env = self.env\n",
    "        data = env.data\n",
    "        if J is None:\n",
    "            J = self.J\n",
    "        v_t = np.minimum(v_t, valid)\n",
    "        if state is None:\n",
    "            state = data.state\n",
    "        if state_index is None:\n",
    "            state_index = data.get_state_index(state)\n",
    "        transitions = data.get_possible_transitions()[state_index]\n",
    "        indices = np.where(transitions)[0]\n",
    "        J_hat_ns = self._J_hat[indices]\n",
    "        p = transition_probs(v_t=v_t, env=env, state=state, **kwargs)\n",
    "        return g + p[indices].dot(J_hat_ns)\n",
    "    \n",
    "    def simulated_cost(self,\n",
    "                       state: np.ndarray,\n",
    "                       state_index: int = None,\n",
    "                       **kwargs):\n",
    "        env = self.env\n",
    "        data = env.data\n",
    "        if state_index is None:\n",
    "            state_index = data.get_state_index(state)\n",
    "        transitions = data.get_possible_transitions()[state_index]\n",
    "        indices = np.where(transitions)[0]\n",
    "        J_hat_ns = self._J_hat[indices]\n",
    "        poss_choices = data.get_possible_states()[indices, 1:]\n",
    "        poss_gains = np.maximum(0, poss_choices - state[1:][np.newaxis])\n",
    "        v_t = poss_gains / np.maximum(1., poss_gains.sum(1, keepdims=True))\n",
    "        p = np.array([\n",
    "            transition_probs(\n",
    "                v_t=v, \n",
    "                env=env,\n",
    "                state=state, \n",
    "                **kwargs\n",
    "            )[indices]\n",
    "            for i, v in enumerate(v_t)\n",
    "        ])\n",
    "        expected_J_ns = p.dot(J_hat_ns)\n",
    "        return self.g[state_index] + min(expected_J_ns)\n",
    "    \n",
    "    def refine_policy(self, verbose: bool=True):\n",
    "        env = self.env\n",
    "        data = env.data\n",
    "        possible_states = data.get_possible_states()\n",
    "        choices = env.get_valid_choices(X=possible_states)\n",
    "        if verbose:\n",
    "            print(\"\\nRefining policy...\")\n",
    "            possible_states = tqdm(possible_states)\n",
    "        self.v = np.array([\n",
    "            optimize_cost(\n",
    "                    valid = choices[i],\n",
    "                    state = state,\n",
    "                    i = i,\n",
    "                    cost_func = self.expected_cost,\n",
    "                    g = self.g[i],\n",
    "                    J = self.J[i]\n",
    "            )[0]\n",
    "            for i, state in enumerate(possible_states)\n",
    "        ])\n",
    "\n",
    "    def train(self, \n",
    "              max_iter: int = 10,\n",
    "              eps: float = 1e-3,\n",
    "              verbosity: int = 1,\n",
    "              show_hist: bool = False,\n",
    "              time_limit: int = None,\n",
    "              warm_start: str = None,\n",
    "              **kwargs):\n",
    "        timeout = False\n",
    "        if time_limit is not None:\n",
    "            start = datetime.now()\n",
    "        if warm_start is not None:\n",
    "            try:\n",
    "                if not self.loaded:\n",
    "                    self.load(warm_start)\n",
    "                if verbosity > 0:\n",
    "                    print(f\"Loaded warm start from {warm_start}\")\n",
    "            except FileNotFoundError:\n",
    "                warm_start = False\n",
    "        env = self.env\n",
    "        data = env.data\n",
    "        features = self.get_features(**kwargs)\n",
    "        possible_states = data.get_possible_states()\n",
    "        N = possible_states[:, 1:].sum(1)\n",
    "        # Get 1SL approximations\n",
    "        for n in np.arange(data.n-1, -1, -1):\n",
    "            case_idx = np.where(N == n)[0]\n",
    "            if warm_start:\n",
    "                # Check if this group has already been fitted\n",
    "                if self.fitted.get(n, False):\n",
    "                    if verbosity > 0:\n",
    "                        print(f\"n == {n} => Already fitted\")\n",
    "                    continue\n",
    "            for _ in range(max_iter):\n",
    "                if verbosity > 0:\n",
    "                    if _ == 0: print(\"\")\n",
    "                    end = \"\\n\" if verbosity > 1 else \"\"\n",
    "                    print(f\"Iteration: {_+1} (n=={n})\", end=end)\n",
    "                    if verbosity > 2: print(f\"\\tcases: {case_idx}\")\n",
    "                if timeout:\n",
    "                    raise TimeoutError(\"This is taking too long!\")\n",
    "                dataset = []                \n",
    "                iterator = case_idx if verbosity < 2 else tqdm(case_idx)\n",
    "                for i in iterator:\n",
    "                    if time_limit is not None:\n",
    "                        elapsed = (datetime.now() - start).seconds\n",
    "                        timeout = elapsed >= time_limit\n",
    "                        if timeout:\n",
    "                            break\n",
    "                    state = possible_states[i]\n",
    "                    beta = self.simulated_cost(\n",
    "                        state=state, \n",
    "                        state_index=i, \n",
    "                        **kwargs\n",
    "                        )\n",
    "                    dataset.append((features[i], beta))\n",
    "                # Fit the model\n",
    "                X, y = list(zip(*dataset))\n",
    "                model = LinearRegression(fit_intercept=False)\n",
    "                model.fit(np.array(X), np.array(y))\n",
    "                self.models[n] = model.coef_\n",
    "                self._J_hat[case_idx] = np.maximum(0, [\n",
    "                    self.compute_J_hat(features[i], index=i, k=n)\n",
    "                    for i in case_idx\n",
    "                ])\n",
    "                # Check convergence\n",
    "                change = np.linalg.norm(self._J_hat[case_idx] - self.J[case_idx])\n",
    "                self.J = self._J_hat.copy()\n",
    "                if verbosity > 0:\n",
    "                    print(f\"  => Convergence metric: {change}\")\n",
    "                if change < eps:\n",
    "                    break\n",
    "            self.fitted[n] = True\n",
    "        if verbosity > 1:\n",
    "            print(f\"\\nEstimated costs: {self.J}\")\n",
    "        if not self.prefitted.get(0, False):\n",
    "            self.refine_policy(verbose = verbosity > 0)\n",
    "        if show_hist:\n",
    "            plt.hist(self.J)\n",
    "            plt.title(\"Distribution of $\\\\hat J$\")\n",
    "            plt.show()\n",
    "   \n",
    "toy_env.reset()\n",
    "toy_ia_policy = IterativeApproximationPolicy(env=toy_env)\n",
    "toy_ia_policy.train(verbosity=1)"
   ]
  },
  {
   "cell_type": "code",
   "execution_count": 21,
   "metadata": {},
   "outputs": [
    {
     "name": "stdout",
     "output_type": "stream",
     "text": [
      "\n",
      "Iteration: 1 (n==5)  => Convergence metric: 12.922211378772456\n",
      "Iteration: 2 (n==5)  => Convergence metric: 0.9505133870973805\n",
      "Iteration: 3 (n==5)  => Convergence metric: 0.39501409272997295\n",
      "Iteration: 4 (n==5)  => Convergence metric: 0.12297899031828073\n",
      "Iteration: 5 (n==5)  => Convergence metric: 0.050445350236933584\n",
      "Iteration: 6 (n==5)  => Convergence metric: 0.01575533238326177\n",
      "Iteration: 7 (n==5)  => Convergence metric: 0.006450567924686012\n",
      "Iteration: 8 (n==5)  => Convergence metric: 0.002018231071469497\n",
      "Iteration: 9 (n==5)  => Convergence metric: 0.0008248900577668303\n",
      "\n",
      "Iteration: 1 (n==4)  => Convergence metric: 25.72568414014344\n",
      "Iteration: 2 (n==4)  => Convergence metric: 3.8738658452575665\n",
      "Iteration: 3 (n==4)  => Convergence metric: 0.4132944671387398\n",
      "Iteration: 4 (n==4)  => Convergence metric: 0.05790452273555427\n",
      "Iteration: 5 (n==4)  => Convergence metric: 0.00989235172814418\n",
      "Iteration: 6 (n==4)  => Convergence metric: 0.0016691220678745873\n",
      "Iteration: 7 (n==4)  => Convergence metric: 0.00029306717191122353\n",
      "\n",
      "Iteration: 1 (n==3)  => Convergence metric: 39.3442280792607\n",
      "Iteration: 2 (n==3)  => Convergence metric: 9.83039376321352\n",
      "Iteration: 3 (n==3)  => Convergence metric: 0.23685642672534035\n",
      "Iteration: 4 (n==3)  => Convergence metric: 0.04427720305908876\n",
      "Iteration: 5 (n==3)  => Convergence metric: 0.0020471567107498726\n",
      "Iteration: 6 (n==3)  => Convergence metric: 0.00011668183585143135\n",
      "\n",
      "Iteration: 1 (n==2)  => Convergence metric: 34.64101615137749\n",
      "Iteration: 2 (n==2)  => Convergence metric: 18.64796688658681\n",
      "Iteration: 3 (n==2)  => Convergence metric: 0.22104956524485408\n",
      "Iteration: 4 (n==2)  => Convergence metric: 0.0014214421303550078\n",
      "Iteration: 5 (n==2)  => Convergence metric: 4.562092829550541e-06\n",
      "\n",
      "Iteration: 1 (n==1)  => Convergence metric: 21.90890230020657\n",
      "Iteration: 2 (n==1)  => Convergence metric: 21.813888837028845\n",
      "Iteration: 3 (n==1)  => Convergence metric: 3.553005997142648\n",
      "Iteration: 4 (n==1)  => Convergence metric: 0.01705508328004297\n",
      "Iteration: 5 (n==1)  => Convergence metric: 2.6208706824778497e-05\n",
      "\n",
      "Iteration: 1 (n==0)  => Convergence metric: 5.656854249492377\n",
      "Iteration: 2 (n==0)  => Convergence metric: 5.65685424949237\n",
      "Iteration: 3 (n==0)  => Convergence metric: 5.656854249492381\n",
      "Iteration: 4 (n==0)  => Convergence metric: 4.358598748073753\n",
      "Iteration: 5 (n==0)  => Convergence metric: 0.00934487399998228\n",
      "Iteration: 6 (n==0)  => Convergence metric: 2.0035491938214628e-05\n",
      "\n",
      "Refining policy...\n"
     ]
    },
    {
     "name": "stderr",
     "output_type": "stream",
     "text": [
      "100%|██████████| 128/128 [00:02<00:00, 56.83it/s]\n"
     ]
    },
    {
     "data": {
      "image/png": "[encoded data removed]",
      "text/plain": [
       "<Figure size 640x480 with 1 Axes>"
      ]
     },
     "metadata": {},
     "output_type": "display_data"
    }
   ],
   "source": [
    "interm_env.reset()\n",
    "interm_env = ControlEnvironment(interm_problem)\n",
    "interm_ia_policy = IterativeApproximationPolicy(env=interm_env)\n",
    "interm_ia_policy.train(verbosity=1, show_hist=True)"
   ]
  },
  {
   "attachments": {},
   "cell_type": "markdown",
   "metadata": {},
   "source": [
    "## Comparison: exact vs. approximate"
   ]
  },
  {
   "attachments": {},
   "cell_type": "markdown",
   "metadata": {},
   "source": [
    "### Toy problem"
   ]
  },
  {
   "cell_type": "code",
   "execution_count": 22,
   "metadata": {},
   "outputs": [
    {
     "name": "stdout",
     "output_type": "stream",
     "text": [
      "\n",
      "Simulating performance for exact policy...\n"
     ]
    },
    {
     "name": "stderr",
     "output_type": "stream",
     "text": [
      "100%|██████████| 1000/1000 [00:00<00:00, 4251.44it/s]\n"
     ]
    },
    {
     "name": "stdout",
     "output_type": "stream",
     "text": [
      "\tMean: 4.352\n",
      "\tStandard deviation: 1.7538802695737248\n",
      "\n",
      "Simulating performance for approximate policy...\n"
     ]
    },
    {
     "name": "stderr",
     "output_type": "stream",
     "text": [
      "100%|██████████| 1000/1000 [00:00<00:00, 3997.38it/s]\n"
     ]
    },
    {
     "name": "stdout",
     "output_type": "stream",
     "text": [
      "\tMean: 4.272\n",
      "\tStandard deviation: 1.5459676581351889\n"
     ]
    },
    {
     "data": {
      "image/png": "[encoded data removed]",
      "text/plain": [
       "<Figure size 640x480 with 1 Axes>"
      ]
     },
     "metadata": {},
     "output_type": "display_data"
    }
   ],
   "source": [
    "compare_policies(\n",
    "    env = toy_env,\n",
    "    policies = {\n",
    "        \"exact\": toy_bc_policy,\n",
    "        \"approximate\": toy_ia_policy\n",
    "    },\n",
    "    verbosity = 1\n",
    ")"
   ]
  },
  {
   "attachments": {},
   "cell_type": "markdown",
   "metadata": {},
   "source": [
    "### Intermediate problem"
   ]
  },
  {
   "cell_type": "code",
   "execution_count": 23,
   "metadata": {},
   "outputs": [
    {
     "name": "stdout",
     "output_type": "stream",
     "text": [
      "\n",
      "Simulating performance for Exact policy...\n"
     ]
    },
    {
     "name": "stderr",
     "output_type": "stream",
     "text": [
      "100%|██████████| 1000/1000 [00:00<00:00, 1925.81it/s]\n"
     ]
    },
    {
     "name": "stdout",
     "output_type": "stream",
     "text": [
      "\tMean: 16.82\n",
      "\tStandard deviation: 2.5138814610080567\n",
      "\n",
      "Simulating performance for Approximate policy...\n"
     ]
    },
    {
     "name": "stderr",
     "output_type": "stream",
     "text": [
      "100%|██████████| 1000/1000 [00:00<00:00, 2039.31it/s]\n"
     ]
    },
    {
     "name": "stdout",
     "output_type": "stream",
     "text": [
      "\tMean: 16.144\n",
      "\tStandard deviation: 1.2309606005067748\n"
     ]
    },
    {
     "data": {
      "image/png": "[encoded data removed]",
      "text/plain": [
       "<Figure size 640x480 with 1 Axes>"
      ]
     },
     "metadata": {},
     "output_type": "display_data"
    }
   ],
   "source": [
    "compare_policies(\n",
    "    env = interm_env,\n",
    "    policies = {\n",
    "        \"Exact\": interm_bc_policy,\n",
    "        \"Approximate\": interm_ia_policy\n",
    "    },\n",
    "    verbosity = 1\n",
    ")"
   ]
  },
  {
   "attachments": {},
   "cell_type": "markdown",
   "metadata": {},
   "source": [
    "### Full problem\n",
    "\n",
    "#### First, train the policies\n",
    "\n",
    "This is going to take a while..."
   ]
  },
  {
   "cell_type": "code",
   "execution_count": 24,
   "metadata": {},
   "outputs": [],
   "source": [
    "loaded_or_trained = [False, False]"
   ]
  },
  {
   "cell_type": "code",
   "execution_count": 30,
   "metadata": {},
   "outputs": [
    {
     "name": "stdout",
     "output_type": "stream",
     "text": [
      "Training back-chain policy...\n",
      "Backchain from N=12\n",
      "Loaded warm start from data\\bc_policy.pkl\n",
      "\n",
      "k == 5: 792 pairs\n"
     ]
    },
    {
     "name": "stderr",
     "output_type": "stream",
     "text": [
      "100%|██████████| 792/792 [3:27:45<00:00, 15.74s/it]  \n"
     ]
    },
    {
     "name": "stdout",
     "output_type": "stream",
     "text": [
      "\n",
      "k == 4: 495 pairs\n"
     ]
    },
    {
     "name": "stderr",
     "output_type": "stream",
     "text": [
      "100%|██████████| 495/495 [1:58:56<00:00, 14.42s/it]  \n"
     ]
    },
    {
     "name": "stdout",
     "output_type": "stream",
     "text": [
      "\n",
      "k == 3: 220 pairs\n"
     ]
    },
    {
     "name": "stderr",
     "output_type": "stream",
     "text": [
      "100%|██████████| 220/220 [1:20:10<00:00, 21.87s/it]\n"
     ]
    },
    {
     "name": "stdout",
     "output_type": "stream",
     "text": [
      "\n",
      "k == 2: 66 pairs\n"
     ]
    },
    {
     "name": "stderr",
     "output_type": "stream",
     "text": [
      " 86%|████████▋ | 57/66 [18:11<02:56, 19.58s/it]"
     ]
    },
    {
     "name": "stdout",
     "output_type": "stream",
     "text": [
      "Optimization didn't work!!!\n",
      "     fun: 17.09192351505742\n",
      "     jac: array([  0.        ,   0.        ,   0.        ,   0.        ,\n",
      "         0.        ,   0.        , -22.95376992,   0.        ,\n",
      "       -22.95376968,   0.        , -22.95377064,   0.        ])\n",
      " message: 'Positive directional derivative for linesearch'\n",
      "    nfev: 158\n",
      "     nit: 15\n",
      "    njev: 11\n",
      "  status: 8\n",
      " success: False\n",
      "       x: array([1.71594765e-15, 2.08701036e-15, 1.73284226e-15, 1.71953886e-15,\n",
      "       1.68861517e-15, 1.66876383e-15, 3.31422153e-01, 1.77003549e-15,\n",
      "       3.31422154e-01, 1.73642238e-15, 3.37166571e-01, 1.70648930e-15])\n"
     ]
    },
    {
     "name": "stderr",
     "output_type": "stream",
     "text": [
      "100%|██████████| 66/66 [22:15<00:00, 20.24s/it]\n"
     ]
    },
    {
     "name": "stdout",
     "output_type": "stream",
     "text": [
      "\n",
      "k == 1: 12 pairs\n"
     ]
    },
    {
     "name": "stderr",
     "output_type": "stream",
     "text": [
      "100%|██████████| 12/12 [04:18<00:00, 21.50s/it]\n"
     ]
    },
    {
     "name": "stdout",
     "output_type": "stream",
     "text": [
      "\n",
      "k == 0: 1 pairs\n"
     ]
    },
    {
     "name": "stderr",
     "output_type": "stream",
     "text": [
      "100%|██████████| 1/1 [00:33<00:00, 33.49s/it]\n"
     ]
    }
   ],
   "source": [
    "std_env.reset()\n",
    "bc_policy = BackChainPolicy(std_env)\n",
    "try:\n",
    "    print(\"Training back-chain policy...\")\n",
    "    bc_policy.train(\n",
    "        verbosity = 1, \n",
    "        #time_limit =   TIMEOUT_AFTER_BC,\n",
    "        warm_start = BC_POLICY_PATH,\n",
    "        save_to = BC_POLICY_PATH\n",
    "    )\n",
    "    bc_policy.save(BC_POLICY_PATH)\n",
    "    loaded_or_trained[0] = True\n",
    "except TimeoutError as e:\n",
    "    print(f\"\\n{e}\")\n",
    "    if os.path.exists(BC_POLICY_PATH):\n",
    "        bc_policy.load(BC_POLICY_PATH)\n",
    "        loaded_or_trained[0] = True"
   ]
  },
  {
   "cell_type": "code",
   "execution_count": 34,
   "metadata": {},
   "outputs": [
    {
     "name": "stdout",
     "output_type": "stream",
     "text": [
      "Training iterative approximation policy...\n",
      "Loaded warm start from data\\ia_policy.pkl\n",
      "n == 11 => Already fitted\n",
      "n == 10 => Already fitted\n",
      "n == 9 => Already fitted\n",
      "n == 8 => Already fitted\n",
      "n == 7 => Already fitted\n",
      "n == 6 => Already fitted\n",
      "n == 5 => Already fitted\n",
      "n == 4 => Already fitted\n",
      "n == 3 => Already fitted\n",
      "n == 2 => Already fitted\n",
      "n == 1 => Already fitted\n",
      "n == 0 => Already fitted\n",
      "\n",
      "Estimated costs: [20.36339986 21.66680496 21.96631353 ...  4.          4.\n",
      "  0.        ]\n"
     ]
    },
    {
     "data": {
      "image/png": "[encoded data removed]",
      "text/plain": [
       "<Figure size 640x480 with 1 Axes>"
      ]
     },
     "metadata": {},
     "output_type": "display_data"
    }
   ],
   "source": [
    "std_env.reset()\n",
    "ia_policy = IterativeApproximationPolicy(env=std_env)\n",
    "print(\"Training iterative approximation policy...\")\n",
    "try:\n",
    "    ia_policy.train(\n",
    "        show_hist = True, \n",
    "        verbosity = 2,\n",
    "        warm_start = IA_POLICY_PATH,\n",
    "        time_limit = TIMEOUT_AFTER_IA\n",
    "    )\n",
    "    ia_policy.save(IA_POLICY_PATH)\n",
    "    loaded_or_trained[1] = True\n",
    "except TimeoutError as e:\n",
    "    print(f\"\\n{e}\")\n",
    "    if os.path.exists(IA_POLICY_PATH):\n",
    "        ia_policy.load(IA_POLICY_PATH)\n",
    "        loaded_or_trained[1] = True"
   ]
  },
  {
   "attachments": {},
   "cell_type": "markdown",
   "metadata": {},
   "source": [
    "#### Compare!"
   ]
  },
  {
   "cell_type": "code",
   "execution_count": 39,
   "metadata": {},
   "outputs": [
    {
     "name": "stdout",
     "output_type": "stream",
     "text": [
      "\n",
      "Simulating performance for exact policy...\n"
     ]
    },
    {
     "name": "stderr",
     "output_type": "stream",
     "text": [
      "\n",
      "\n",
      "\u001b[A\u001b[A"
     ]
    }
   ],
   "source": [
    "if np.all(loaded_or_trained):\n",
    "    compare_policies(\n",
    "        env = std_env, \n",
    "        policies = {\n",
    "            \"exact\": bc_policy,\n",
    "            \"approximative\": ia_policy\n",
    "            },\n",
    "        verbosity = 1,\n",
    "        nsim = 100\n",
    "    )"
   ]
  }
 ],
 "metadata": {
  "kernelspec": {
   "display_name": "Python 3",
   "language": "python",
   "name": "python3"
  },
  "language_info": {
   "codemirror_mode": {
    "name": "ipython",
    "version": 3
   },
   "file_extension": ".py",
   "mimetype": "text/x-python",
   "name": "python",
   "nbconvert_exporter": "python",
   "pygments_lexer": "ipython3",
   "version": "3.9.13"
  },
  "orig_nbformat": 4,
  "vscode": {
   "interpreter": {
    "hash": "a996ed0499bea5d3ec16a8570e4f012d11104c35f2d62996f7b2c8fa8271441e"
   }
  }
 },
 "nbformat": 4,
 "nbformat_minor": 2
}
